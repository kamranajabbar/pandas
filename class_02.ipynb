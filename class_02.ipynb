{
 "metadata": {
  "language_info": {
   "codemirror_mode": {
    "name": "ipython",
    "version": 3
   },
   "file_extension": ".py",
   "mimetype": "text/x-python",
   "name": "python",
   "nbconvert_exporter": "python",
   "pygments_lexer": "ipython3",
   "version": "3.8.5-final"
  },
  "orig_nbformat": 2,
  "kernelspec": {
   "name": "python3",
   "display_name": "Python 3.8.5 64-bit ('base': conda)",
   "metadata": {
    "interpreter": {
     "hash": "0dcd4ec83837b8554bc20226fba95fdb97a112f322b21fe213505dfa74ddbf76"
    }
   }
  }
 },
 "nbformat": 4,
 "nbformat_minor": 2,
 "cells": [
  {
   "source": [
    "# The Pandas DataFrame Object\n",
    "\n",
    "A DataFrame represents a ractangler table of data, and contains an ordered collection of columns, each of which can be a different value type."
   ],
   "cell_type": "markdown",
   "metadata": {}
  },
  {
   "cell_type": "code",
   "execution_count": 88,
   "metadata": {},
   "outputs": [],
   "source": [
    "import numpy as np \n",
    "import pandas as pd"
   ]
  },
  {
   "cell_type": "code",
   "execution_count": 89,
   "metadata": {},
   "outputs": [
    {
     "output_type": "execute_result",
     "data": {
      "text/plain": [
       "    0   1   2   3\n",
       "0  10  11  12  13\n",
       "1  20  21  22  23"
      ],
      "text/html": "<div>\n<style scoped>\n    .dataframe tbody tr th:only-of-type {\n        vertical-align: middle;\n    }\n\n    .dataframe tbody tr th {\n        vertical-align: top;\n    }\n\n    .dataframe thead th {\n        text-align: right;\n    }\n</style>\n<table border=\"1\" class=\"dataframe\">\n  <thead>\n    <tr style=\"text-align: right;\">\n      <th></th>\n      <th>0</th>\n      <th>1</th>\n      <th>2</th>\n      <th>3</th>\n    </tr>\n  </thead>\n  <tbody>\n    <tr>\n      <th>0</th>\n      <td>10</td>\n      <td>11</td>\n      <td>12</td>\n      <td>13</td>\n    </tr>\n    <tr>\n      <th>1</th>\n      <td>20</td>\n      <td>21</td>\n      <td>22</td>\n      <td>23</td>\n    </tr>\n  </tbody>\n</table>\n</div>"
     },
     "metadata": {},
     "execution_count": 89
    }
   ],
   "source": [
    "#Create a DataFrame from a 2-D ndarray\n",
    "df = pd.DataFrame(np.array([ [10,11,12,13],[20,21,22,23] ]))\n",
    "df"
   ]
  },
  {
   "cell_type": "code",
   "execution_count": 90,
   "metadata": {},
   "outputs": [
    {
     "output_type": "execute_result",
     "data": {
      "text/plain": [
       "    0   1   2   3   4\n",
       "0  10  11  12  13  14\n",
       "1  15  16  17  18  19"
      ],
      "text/html": "<div>\n<style scoped>\n    .dataframe tbody tr th:only-of-type {\n        vertical-align: middle;\n    }\n\n    .dataframe tbody tr th {\n        vertical-align: top;\n    }\n\n    .dataframe thead th {\n        text-align: right;\n    }\n</style>\n<table border=\"1\" class=\"dataframe\">\n  <thead>\n    <tr style=\"text-align: right;\">\n      <th></th>\n      <th>0</th>\n      <th>1</th>\n      <th>2</th>\n      <th>3</th>\n      <th>4</th>\n    </tr>\n  </thead>\n  <tbody>\n    <tr>\n      <th>0</th>\n      <td>10</td>\n      <td>11</td>\n      <td>12</td>\n      <td>13</td>\n      <td>14</td>\n    </tr>\n    <tr>\n      <th>1</th>\n      <td>15</td>\n      <td>16</td>\n      <td>17</td>\n      <td>18</td>\n      <td>19</td>\n    </tr>\n  </tbody>\n</table>\n</div>"
     },
     "metadata": {},
     "execution_count": 90
    }
   ],
   "source": [
    "#Create a DataFrame for a list of series objects\n",
    "df1 = pd.DataFrame( [pd.Series(np.arange(10, 15)),\n",
    "                    pd.Series(np.arange(15, 20))] )\n",
    "df1"
   ]
  },
  {
   "cell_type": "code",
   "execution_count": 91,
   "metadata": {},
   "outputs": [
    {
     "output_type": "execute_result",
     "data": {
      "text/plain": [
       "   boys  girls\n",
       "0     1      6\n",
       "1     2      7\n",
       "2     3      8\n",
       "3     4      9\n",
       "4     5     10"
      ],
      "text/html": "<div>\n<style scoped>\n    .dataframe tbody tr th:only-of-type {\n        vertical-align: middle;\n    }\n\n    .dataframe tbody tr th {\n        vertical-align: top;\n    }\n\n    .dataframe thead th {\n        text-align: right;\n    }\n</style>\n<table border=\"1\" class=\"dataframe\">\n  <thead>\n    <tr style=\"text-align: right;\">\n      <th></th>\n      <th>boys</th>\n      <th>girls</th>\n    </tr>\n  </thead>\n  <tbody>\n    <tr>\n      <th>0</th>\n      <td>1</td>\n      <td>6</td>\n    </tr>\n    <tr>\n      <th>1</th>\n      <td>2</td>\n      <td>7</td>\n    </tr>\n    <tr>\n      <th>2</th>\n      <td>3</td>\n      <td>8</td>\n    </tr>\n    <tr>\n      <th>3</th>\n      <td>4</td>\n      <td>9</td>\n    </tr>\n    <tr>\n      <th>4</th>\n      <td>5</td>\n      <td>10</td>\n    </tr>\n  </tbody>\n</table>\n</div>"
     },
     "metadata": {},
     "execution_count": 91
    }
   ],
   "source": [
    "#Create a DataFrame with two series objects and a dictionary\n",
    "s1 = pd.Series(np.arange(1, 6, 1))\n",
    "s2 = pd.Series(np.arange(6, 11, 1))\n",
    "\n",
    "df2 = pd.DataFrame({'boys': s1, 'girls': s2})\n",
    "df2"
   ]
  },
  {
   "cell_type": "code",
   "execution_count": 92,
   "metadata": {},
   "outputs": [
    {
     "output_type": "execute_result",
     "data": {
      "text/plain": [
       "    name  age grades\n",
       "0   Asad   23      A\n",
       "1   Saad   34      B\n",
       "2  Fahad   23      C\n",
       "3    Ali   21      D"
      ],
      "text/html": "<div>\n<style scoped>\n    .dataframe tbody tr th:only-of-type {\n        vertical-align: middle;\n    }\n\n    .dataframe tbody tr th {\n        vertical-align: top;\n    }\n\n    .dataframe thead th {\n        text-align: right;\n    }\n</style>\n<table border=\"1\" class=\"dataframe\">\n  <thead>\n    <tr style=\"text-align: right;\">\n      <th></th>\n      <th>name</th>\n      <th>age</th>\n      <th>grades</th>\n    </tr>\n  </thead>\n  <tbody>\n    <tr>\n      <th>0</th>\n      <td>Asad</td>\n      <td>23</td>\n      <td>A</td>\n    </tr>\n    <tr>\n      <th>1</th>\n      <td>Saad</td>\n      <td>34</td>\n      <td>B</td>\n    </tr>\n    <tr>\n      <th>2</th>\n      <td>Fahad</td>\n      <td>23</td>\n      <td>C</td>\n    </tr>\n    <tr>\n      <th>3</th>\n      <td>Ali</td>\n      <td>21</td>\n      <td>D</td>\n    </tr>\n  </tbody>\n</table>\n</div>"
     },
     "metadata": {},
     "execution_count": 92
    }
   ],
   "source": [
    "#Create a DataFrame with dictionary\n",
    "data = {\n",
    "            'name':   [\"Asad\", \"Saad\", \"Fahad\", \"Ali\"], \n",
    "            \"age\":    [23, 34, 23, 21], \n",
    "            \"grades\": [\"A\", \"B\", \"C\", \"D\"]\n",
    "       }\n",
    "data = pd.DataFrame(data)\n",
    "data"
   ]
  },
  {
   "cell_type": "code",
   "execution_count": 93,
   "metadata": {},
   "outputs": [
    {
     "output_type": "execute_result",
     "data": {
      "text/plain": [
       "   apples  oranges\n",
       "0      10       11\n",
       "1      20       21"
      ],
      "text/html": "<div>\n<style scoped>\n    .dataframe tbody tr th:only-of-type {\n        vertical-align: middle;\n    }\n\n    .dataframe tbody tr th {\n        vertical-align: top;\n    }\n\n    .dataframe thead th {\n        text-align: right;\n    }\n</style>\n<table border=\"1\" class=\"dataframe\">\n  <thead>\n    <tr style=\"text-align: right;\">\n      <th></th>\n      <th>apples</th>\n      <th>oranges</th>\n    </tr>\n  </thead>\n  <tbody>\n    <tr>\n      <th>0</th>\n      <td>10</td>\n      <td>11</td>\n    </tr>\n    <tr>\n      <th>1</th>\n      <td>20</td>\n      <td>21</td>\n    </tr>\n  </tbody>\n</table>\n</div>"
     },
     "metadata": {},
     "execution_count": 93
    }
   ],
   "source": [
    "#Specify column name\n",
    "df3 = pd.DataFrame(np.array([ [10,11], [20,21] ]), columns=[\"apples\", \"oranges\"])\n",
    "df3"
   ]
  },
  {
   "cell_type": "code",
   "execution_count": 94,
   "metadata": {},
   "outputs": [
    {
     "output_type": "execute_result",
     "data": {
      "text/plain": [
       "         Mon  Tue  Wed  Thu\n",
       "apples    10   11   12   13\n",
       "oranges   20   21   22   23"
      ],
      "text/html": "<div>\n<style scoped>\n    .dataframe tbody tr th:only-of-type {\n        vertical-align: middle;\n    }\n\n    .dataframe tbody tr th {\n        vertical-align: top;\n    }\n\n    .dataframe thead th {\n        text-align: right;\n    }\n</style>\n<table border=\"1\" class=\"dataframe\">\n  <thead>\n    <tr style=\"text-align: right;\">\n      <th></th>\n      <th>Mon</th>\n      <th>Tue</th>\n      <th>Wed</th>\n      <th>Thu</th>\n    </tr>\n  </thead>\n  <tbody>\n    <tr>\n      <th>apples</th>\n      <td>10</td>\n      <td>11</td>\n      <td>12</td>\n      <td>13</td>\n    </tr>\n    <tr>\n      <th>oranges</th>\n      <td>20</td>\n      <td>21</td>\n      <td>22</td>\n      <td>23</td>\n    </tr>\n  </tbody>\n</table>\n</div>"
     },
     "metadata": {},
     "execution_count": 94
    }
   ],
   "source": [
    "#Create a DataFrame with named columns and rows\n",
    "df4 = pd.DataFrame(np.array([ [10,11,12,13],[20,21,22,23] ]), index=['apples', 'oranges'], columns=['Mon', 'Tue', 'Wed', 'Thu'])\n",
    "\n",
    "df4"
   ]
  },
  {
   "cell_type": "code",
   "execution_count": 95,
   "metadata": {},
   "outputs": [
    {
     "output_type": "execute_result",
     "data": {
      "text/plain": [
       "    state  year  pop\n",
       "0    Ohio  2000  1.5\n",
       "1    Ohio  2001  1.7\n",
       "2    Ohio  2002  3.6\n",
       "3  Neveda  2001  2.4\n",
       "4  Neveda  2002  2.9\n",
       "5  Neveda  2003  3.2"
      ],
      "text/html": "<div>\n<style scoped>\n    .dataframe tbody tr th:only-of-type {\n        vertical-align: middle;\n    }\n\n    .dataframe tbody tr th {\n        vertical-align: top;\n    }\n\n    .dataframe thead th {\n        text-align: right;\n    }\n</style>\n<table border=\"1\" class=\"dataframe\">\n  <thead>\n    <tr style=\"text-align: right;\">\n      <th></th>\n      <th>state</th>\n      <th>year</th>\n      <th>pop</th>\n    </tr>\n  </thead>\n  <tbody>\n    <tr>\n      <th>0</th>\n      <td>Ohio</td>\n      <td>2000</td>\n      <td>1.5</td>\n    </tr>\n    <tr>\n      <th>1</th>\n      <td>Ohio</td>\n      <td>2001</td>\n      <td>1.7</td>\n    </tr>\n    <tr>\n      <th>2</th>\n      <td>Ohio</td>\n      <td>2002</td>\n      <td>3.6</td>\n    </tr>\n    <tr>\n      <th>3</th>\n      <td>Neveda</td>\n      <td>2001</td>\n      <td>2.4</td>\n    </tr>\n    <tr>\n      <th>4</th>\n      <td>Neveda</td>\n      <td>2002</td>\n      <td>2.9</td>\n    </tr>\n    <tr>\n      <th>5</th>\n      <td>Neveda</td>\n      <td>2003</td>\n      <td>3.2</td>\n    </tr>\n  </tbody>\n</table>\n</div>"
     },
     "metadata": {},
     "execution_count": 95
    }
   ],
   "source": [
    "data = {\n",
    "    'state': ['Ohio','Ohio','Ohio','Neveda','Neveda','Neveda'], \n",
    "    'year':  [2000,2001,2002,2001,2002,2003],\n",
    "    'pop': [1.5,1.7,3.6,2.4,2.9,3.2]\n",
    "}\n",
    "\n",
    "frame = pd.DataFrame(data)\n",
    "frame"
   ]
  },
  {
   "cell_type": "code",
   "execution_count": 96,
   "metadata": {},
   "outputs": [
    {
     "output_type": "execute_result",
     "data": {
      "text/plain": [
       "   year   state  pop  imports\n",
       "0  2000    Ohio  1.5      NaN\n",
       "1  2001    Ohio  1.7      NaN\n",
       "2  2002    Ohio  3.6      NaN\n",
       "3  2001  Neveda  2.4      NaN\n",
       "4  2002  Neveda  2.9      NaN\n",
       "5  2003  Neveda  3.2      NaN"
      ],
      "text/html": "<div>\n<style scoped>\n    .dataframe tbody tr th:only-of-type {\n        vertical-align: middle;\n    }\n\n    .dataframe tbody tr th {\n        vertical-align: top;\n    }\n\n    .dataframe thead th {\n        text-align: right;\n    }\n</style>\n<table border=\"1\" class=\"dataframe\">\n  <thead>\n    <tr style=\"text-align: right;\">\n      <th></th>\n      <th>year</th>\n      <th>state</th>\n      <th>pop</th>\n      <th>imports</th>\n    </tr>\n  </thead>\n  <tbody>\n    <tr>\n      <th>0</th>\n      <td>2000</td>\n      <td>Ohio</td>\n      <td>1.5</td>\n      <td>NaN</td>\n    </tr>\n    <tr>\n      <th>1</th>\n      <td>2001</td>\n      <td>Ohio</td>\n      <td>1.7</td>\n      <td>NaN</td>\n    </tr>\n    <tr>\n      <th>2</th>\n      <td>2002</td>\n      <td>Ohio</td>\n      <td>3.6</td>\n      <td>NaN</td>\n    </tr>\n    <tr>\n      <th>3</th>\n      <td>2001</td>\n      <td>Neveda</td>\n      <td>2.4</td>\n      <td>NaN</td>\n    </tr>\n    <tr>\n      <th>4</th>\n      <td>2002</td>\n      <td>Neveda</td>\n      <td>2.9</td>\n      <td>NaN</td>\n    </tr>\n    <tr>\n      <th>5</th>\n      <td>2003</td>\n      <td>Neveda</td>\n      <td>3.2</td>\n      <td>NaN</td>\n    </tr>\n  </tbody>\n</table>\n</div>"
     },
     "metadata": {},
     "execution_count": 96
    }
   ],
   "source": [
    "#in-place = false\n",
    "pd.DataFrame(frame, columns=['year','state','pop', 'imports'])"
   ]
  },
  {
   "cell_type": "code",
   "execution_count": 97,
   "metadata": {},
   "outputs": [
    {
     "output_type": "execute_result",
     "data": {
      "text/plain": [
       "0    2000\n",
       "1    2001\n",
       "2    2002\n",
       "3    2001\n",
       "4    2002\n",
       "5    2003\n",
       "Name: year, dtype: int64"
      ]
     },
     "metadata": {},
     "execution_count": 97
    }
   ],
   "source": [
    "#Select a column\n",
    "frame.year"
   ]
  },
  {
   "cell_type": "code",
   "execution_count": 98,
   "metadata": {},
   "outputs": [
    {
     "output_type": "execute_result",
     "data": {
      "text/plain": [
       "0    1.5\n",
       "1    1.7\n",
       "2    3.6\n",
       "3    2.4\n",
       "4    2.9\n",
       "5    3.2\n",
       "Name: pop, dtype: float64"
      ]
     },
     "metadata": {},
     "execution_count": 98
    }
   ],
   "source": [
    "frame['pop']"
   ]
  },
  {
   "cell_type": "code",
   "execution_count": 99,
   "metadata": {},
   "outputs": [
    {
     "output_type": "execute_result",
     "data": {
      "text/plain": [
       "       year   state  pop dept\n",
       "one    2000    Ohio  1.5  NaN\n",
       "two    2001    Ohio  1.7  NaN\n",
       "three  2002    Ohio  3.6  NaN\n",
       "four   2001  Neveda  2.4  NaN\n",
       "five   2002  Neveda  2.9  NaN\n",
       "six    2003  Neveda  3.2  NaN"
      ],
      "text/html": "<div>\n<style scoped>\n    .dataframe tbody tr th:only-of-type {\n        vertical-align: middle;\n    }\n\n    .dataframe tbody tr th {\n        vertical-align: top;\n    }\n\n    .dataframe thead th {\n        text-align: right;\n    }\n</style>\n<table border=\"1\" class=\"dataframe\">\n  <thead>\n    <tr style=\"text-align: right;\">\n      <th></th>\n      <th>year</th>\n      <th>state</th>\n      <th>pop</th>\n      <th>dept</th>\n    </tr>\n  </thead>\n  <tbody>\n    <tr>\n      <th>one</th>\n      <td>2000</td>\n      <td>Ohio</td>\n      <td>1.5</td>\n      <td>NaN</td>\n    </tr>\n    <tr>\n      <th>two</th>\n      <td>2001</td>\n      <td>Ohio</td>\n      <td>1.7</td>\n      <td>NaN</td>\n    </tr>\n    <tr>\n      <th>three</th>\n      <td>2002</td>\n      <td>Ohio</td>\n      <td>3.6</td>\n      <td>NaN</td>\n    </tr>\n    <tr>\n      <th>four</th>\n      <td>2001</td>\n      <td>Neveda</td>\n      <td>2.4</td>\n      <td>NaN</td>\n    </tr>\n    <tr>\n      <th>five</th>\n      <td>2002</td>\n      <td>Neveda</td>\n      <td>2.9</td>\n      <td>NaN</td>\n    </tr>\n    <tr>\n      <th>six</th>\n      <td>2003</td>\n      <td>Neveda</td>\n      <td>3.2</td>\n      <td>NaN</td>\n    </tr>\n  </tbody>\n</table>\n</div>"
     },
     "metadata": {},
     "execution_count": 99
    }
   ],
   "source": [
    "frame2 = pd.DataFrame(data, columns=['year','state','pop','dept'], index=['one', 'two', 'three', 'four', 'five', 'six'])\n",
    "frame2"
   ]
  },
  {
   "cell_type": "code",
   "execution_count": 100,
   "metadata": {},
   "outputs": [
    {
     "output_type": "execute_result",
     "data": {
      "text/plain": [
       "       year   state  pop dept\n",
       "one    2000    Ohio  1.5  100\n",
       "two    2001    Ohio  1.7  100\n",
       "three  2002    Ohio  3.6  100\n",
       "four   2001  Neveda  2.4  100\n",
       "five   2002  Neveda  2.9  100\n",
       "six    2003  Neveda  3.2  100"
      ],
      "text/html": "<div>\n<style scoped>\n    .dataframe tbody tr th:only-of-type {\n        vertical-align: middle;\n    }\n\n    .dataframe tbody tr th {\n        vertical-align: top;\n    }\n\n    .dataframe thead th {\n        text-align: right;\n    }\n</style>\n<table border=\"1\" class=\"dataframe\">\n  <thead>\n    <tr style=\"text-align: right;\">\n      <th></th>\n      <th>year</th>\n      <th>state</th>\n      <th>pop</th>\n      <th>dept</th>\n    </tr>\n  </thead>\n  <tbody>\n    <tr>\n      <th>one</th>\n      <td>2000</td>\n      <td>Ohio</td>\n      <td>1.5</td>\n      <td>100</td>\n    </tr>\n    <tr>\n      <th>two</th>\n      <td>2001</td>\n      <td>Ohio</td>\n      <td>1.7</td>\n      <td>100</td>\n    </tr>\n    <tr>\n      <th>three</th>\n      <td>2002</td>\n      <td>Ohio</td>\n      <td>3.6</td>\n      <td>100</td>\n    </tr>\n    <tr>\n      <th>four</th>\n      <td>2001</td>\n      <td>Neveda</td>\n      <td>2.4</td>\n      <td>100</td>\n    </tr>\n    <tr>\n      <th>five</th>\n      <td>2002</td>\n      <td>Neveda</td>\n      <td>2.9</td>\n      <td>100</td>\n    </tr>\n    <tr>\n      <th>six</th>\n      <td>2003</td>\n      <td>Neveda</td>\n      <td>3.2</td>\n      <td>100</td>\n    </tr>\n  </tbody>\n</table>\n</div>"
     },
     "metadata": {},
     "execution_count": 100
    }
   ],
   "source": [
    "#Enter 100 (const) in dept column\n",
    "frame2.dept = \"100\"\n",
    "frame2"
   ]
  },
  {
   "cell_type": "code",
   "execution_count": 101,
   "metadata": {},
   "outputs": [
    {
     "output_type": "execute_result",
     "data": {
      "text/plain": [
       "       year   state  pop  dept\n",
       "one    2000    Ohio  1.5     0\n",
       "two    2001    Ohio  1.7     1\n",
       "three  2002    Ohio  3.6     2\n",
       "four   2001  Neveda  2.4     3\n",
       "five   2002  Neveda  2.9     4\n",
       "six    2003  Neveda  3.2     5"
      ],
      "text/html": "<div>\n<style scoped>\n    .dataframe tbody tr th:only-of-type {\n        vertical-align: middle;\n    }\n\n    .dataframe tbody tr th {\n        vertical-align: top;\n    }\n\n    .dataframe thead th {\n        text-align: right;\n    }\n</style>\n<table border=\"1\" class=\"dataframe\">\n  <thead>\n    <tr style=\"text-align: right;\">\n      <th></th>\n      <th>year</th>\n      <th>state</th>\n      <th>pop</th>\n      <th>dept</th>\n    </tr>\n  </thead>\n  <tbody>\n    <tr>\n      <th>one</th>\n      <td>2000</td>\n      <td>Ohio</td>\n      <td>1.5</td>\n      <td>0</td>\n    </tr>\n    <tr>\n      <th>two</th>\n      <td>2001</td>\n      <td>Ohio</td>\n      <td>1.7</td>\n      <td>1</td>\n    </tr>\n    <tr>\n      <th>three</th>\n      <td>2002</td>\n      <td>Ohio</td>\n      <td>3.6</td>\n      <td>2</td>\n    </tr>\n    <tr>\n      <th>four</th>\n      <td>2001</td>\n      <td>Neveda</td>\n      <td>2.4</td>\n      <td>3</td>\n    </tr>\n    <tr>\n      <th>five</th>\n      <td>2002</td>\n      <td>Neveda</td>\n      <td>2.9</td>\n      <td>4</td>\n    </tr>\n    <tr>\n      <th>six</th>\n      <td>2003</td>\n      <td>Neveda</td>\n      <td>3.2</td>\n      <td>5</td>\n    </tr>\n  </tbody>\n</table>\n</div>"
     },
     "metadata": {},
     "execution_count": 101
    }
   ],
   "source": [
    "#Enter 0-6 (range) numbers in dept column\n",
    "frame2['dept'] = np.arange(6)\n",
    "frame2"
   ]
  },
  {
   "cell_type": "code",
   "execution_count": 102,
   "metadata": {},
   "outputs": [
    {
     "output_type": "execute_result",
     "data": {
      "text/plain": [
       "       year   state  pop  dept\n",
       "one    2000    Ohio  1.5   NaN\n",
       "two    2001    Ohio  1.7  -1.2\n",
       "three  2002    Ohio  3.6   NaN\n",
       "four   2001  Neveda  2.4  -1.5\n",
       "five   2002  Neveda  2.9  -1.7\n",
       "six    2003  Neveda  3.2   NaN"
      ],
      "text/html": "<div>\n<style scoped>\n    .dataframe tbody tr th:only-of-type {\n        vertical-align: middle;\n    }\n\n    .dataframe tbody tr th {\n        vertical-align: top;\n    }\n\n    .dataframe thead th {\n        text-align: right;\n    }\n</style>\n<table border=\"1\" class=\"dataframe\">\n  <thead>\n    <tr style=\"text-align: right;\">\n      <th></th>\n      <th>year</th>\n      <th>state</th>\n      <th>pop</th>\n      <th>dept</th>\n    </tr>\n  </thead>\n  <tbody>\n    <tr>\n      <th>one</th>\n      <td>2000</td>\n      <td>Ohio</td>\n      <td>1.5</td>\n      <td>NaN</td>\n    </tr>\n    <tr>\n      <th>two</th>\n      <td>2001</td>\n      <td>Ohio</td>\n      <td>1.7</td>\n      <td>-1.2</td>\n    </tr>\n    <tr>\n      <th>three</th>\n      <td>2002</td>\n      <td>Ohio</td>\n      <td>3.6</td>\n      <td>NaN</td>\n    </tr>\n    <tr>\n      <th>four</th>\n      <td>2001</td>\n      <td>Neveda</td>\n      <td>2.4</td>\n      <td>-1.5</td>\n    </tr>\n    <tr>\n      <th>five</th>\n      <td>2002</td>\n      <td>Neveda</td>\n      <td>2.9</td>\n      <td>-1.7</td>\n    </tr>\n    <tr>\n      <th>six</th>\n      <td>2003</td>\n      <td>Neveda</td>\n      <td>3.2</td>\n      <td>NaN</td>\n    </tr>\n  </tbody>\n</table>\n</div>"
     },
     "metadata": {},
     "execution_count": 102
    }
   ],
   "source": [
    "#Enter (series) in dept column\n",
    "val = pd.Series([-1.2, -1.5, -1.7], index=['two', 'four', 'five'])\n",
    "frame2['dept'] = val\n",
    "frame2"
   ]
  },
  {
   "cell_type": "code",
   "execution_count": 103,
   "metadata": {},
   "outputs": [
    {
     "output_type": "execute_result",
     "data": {
      "text/plain": [
       "       year   state  pop  dept  eastern\n",
       "one    2000    Ohio  1.5   NaN     True\n",
       "two    2001    Ohio  1.7  -1.2     True\n",
       "three  2002    Ohio  3.6   NaN     True\n",
       "four   2001  Neveda  2.4  -1.5    False\n",
       "five   2002  Neveda  2.9  -1.7    False\n",
       "six    2003  Neveda  3.2   NaN    False"
      ],
      "text/html": "<div>\n<style scoped>\n    .dataframe tbody tr th:only-of-type {\n        vertical-align: middle;\n    }\n\n    .dataframe tbody tr th {\n        vertical-align: top;\n    }\n\n    .dataframe thead th {\n        text-align: right;\n    }\n</style>\n<table border=\"1\" class=\"dataframe\">\n  <thead>\n    <tr style=\"text-align: right;\">\n      <th></th>\n      <th>year</th>\n      <th>state</th>\n      <th>pop</th>\n      <th>dept</th>\n      <th>eastern</th>\n    </tr>\n  </thead>\n  <tbody>\n    <tr>\n      <th>one</th>\n      <td>2000</td>\n      <td>Ohio</td>\n      <td>1.5</td>\n      <td>NaN</td>\n      <td>True</td>\n    </tr>\n    <tr>\n      <th>two</th>\n      <td>2001</td>\n      <td>Ohio</td>\n      <td>1.7</td>\n      <td>-1.2</td>\n      <td>True</td>\n    </tr>\n    <tr>\n      <th>three</th>\n      <td>2002</td>\n      <td>Ohio</td>\n      <td>3.6</td>\n      <td>NaN</td>\n      <td>True</td>\n    </tr>\n    <tr>\n      <th>four</th>\n      <td>2001</td>\n      <td>Neveda</td>\n      <td>2.4</td>\n      <td>-1.5</td>\n      <td>False</td>\n    </tr>\n    <tr>\n      <th>five</th>\n      <td>2002</td>\n      <td>Neveda</td>\n      <td>2.9</td>\n      <td>-1.7</td>\n      <td>False</td>\n    </tr>\n    <tr>\n      <th>six</th>\n      <td>2003</td>\n      <td>Neveda</td>\n      <td>3.2</td>\n      <td>NaN</td>\n      <td>False</td>\n    </tr>\n  </tbody>\n</table>\n</div>"
     },
     "metadata": {},
     "execution_count": 103
    }
   ],
   "source": [
    "#Adding column to dataframe with bool values where state(column) has 'Ohio' value\n",
    "frame2['eastern'] = frame2.state == 'Ohio' #ture/false\n",
    "frame2"
   ]
  },
  {
   "cell_type": "code",
   "execution_count": 104,
   "metadata": {},
   "outputs": [
    {
     "output_type": "execute_result",
     "data": {
      "text/plain": [
       "       year   state  pop  dept  eastern  greaterThenTwo\n",
       "one    2000    Ohio  1.5   NaN     True           False\n",
       "two    2001    Ohio  1.7  -1.2     True           False\n",
       "three  2002    Ohio  3.6   NaN     True            True\n",
       "four   2001  Neveda  2.4  -1.5    False            True\n",
       "five   2002  Neveda  2.9  -1.7    False            True\n",
       "six    2003  Neveda  3.2   NaN    False            True"
      ],
      "text/html": "<div>\n<style scoped>\n    .dataframe tbody tr th:only-of-type {\n        vertical-align: middle;\n    }\n\n    .dataframe tbody tr th {\n        vertical-align: top;\n    }\n\n    .dataframe thead th {\n        text-align: right;\n    }\n</style>\n<table border=\"1\" class=\"dataframe\">\n  <thead>\n    <tr style=\"text-align: right;\">\n      <th></th>\n      <th>year</th>\n      <th>state</th>\n      <th>pop</th>\n      <th>dept</th>\n      <th>eastern</th>\n      <th>greaterThenTwo</th>\n    </tr>\n  </thead>\n  <tbody>\n    <tr>\n      <th>one</th>\n      <td>2000</td>\n      <td>Ohio</td>\n      <td>1.5</td>\n      <td>NaN</td>\n      <td>True</td>\n      <td>False</td>\n    </tr>\n    <tr>\n      <th>two</th>\n      <td>2001</td>\n      <td>Ohio</td>\n      <td>1.7</td>\n      <td>-1.2</td>\n      <td>True</td>\n      <td>False</td>\n    </tr>\n    <tr>\n      <th>three</th>\n      <td>2002</td>\n      <td>Ohio</td>\n      <td>3.6</td>\n      <td>NaN</td>\n      <td>True</td>\n      <td>True</td>\n    </tr>\n    <tr>\n      <th>four</th>\n      <td>2001</td>\n      <td>Neveda</td>\n      <td>2.4</td>\n      <td>-1.5</td>\n      <td>False</td>\n      <td>True</td>\n    </tr>\n    <tr>\n      <th>five</th>\n      <td>2002</td>\n      <td>Neveda</td>\n      <td>2.9</td>\n      <td>-1.7</td>\n      <td>False</td>\n      <td>True</td>\n    </tr>\n    <tr>\n      <th>six</th>\n      <td>2003</td>\n      <td>Neveda</td>\n      <td>3.2</td>\n      <td>NaN</td>\n      <td>False</td>\n      <td>True</td>\n    </tr>\n  </tbody>\n</table>\n</div>"
     },
     "metadata": {},
     "execution_count": 104
    }
   ],
   "source": [
    "#Adding column to dataframe with bool values where pop(column) has value > 2\n",
    "frame2['greaterThenTwo'] = frame2['pop'] > 2\n",
    "frame2"
   ]
  },
  {
   "cell_type": "code",
   "execution_count": 105,
   "metadata": {},
   "outputs": [],
   "source": [
    "#Delete eastern column\n",
    "del frame2['eastern']"
   ]
  },
  {
   "cell_type": "code",
   "execution_count": 106,
   "metadata": {},
   "outputs": [
    {
     "output_type": "execute_result",
     "data": {
      "text/plain": [
       "       year   state  pop  dept  greaterThenTwo\n",
       "one    2000    Ohio  1.5   NaN           False\n",
       "two    2001    Ohio  1.7  -1.2           False\n",
       "three  2002    Ohio  3.6   NaN            True\n",
       "four   2001  Neveda  2.4  -1.5            True\n",
       "five   2002  Neveda  2.9  -1.7            True\n",
       "six    2003  Neveda  3.2   NaN            True"
      ],
      "text/html": "<div>\n<style scoped>\n    .dataframe tbody tr th:only-of-type {\n        vertical-align: middle;\n    }\n\n    .dataframe tbody tr th {\n        vertical-align: top;\n    }\n\n    .dataframe thead th {\n        text-align: right;\n    }\n</style>\n<table border=\"1\" class=\"dataframe\">\n  <thead>\n    <tr style=\"text-align: right;\">\n      <th></th>\n      <th>year</th>\n      <th>state</th>\n      <th>pop</th>\n      <th>dept</th>\n      <th>greaterThenTwo</th>\n    </tr>\n  </thead>\n  <tbody>\n    <tr>\n      <th>one</th>\n      <td>2000</td>\n      <td>Ohio</td>\n      <td>1.5</td>\n      <td>NaN</td>\n      <td>False</td>\n    </tr>\n    <tr>\n      <th>two</th>\n      <td>2001</td>\n      <td>Ohio</td>\n      <td>1.7</td>\n      <td>-1.2</td>\n      <td>False</td>\n    </tr>\n    <tr>\n      <th>three</th>\n      <td>2002</td>\n      <td>Ohio</td>\n      <td>3.6</td>\n      <td>NaN</td>\n      <td>True</td>\n    </tr>\n    <tr>\n      <th>four</th>\n      <td>2001</td>\n      <td>Neveda</td>\n      <td>2.4</td>\n      <td>-1.5</td>\n      <td>True</td>\n    </tr>\n    <tr>\n      <th>five</th>\n      <td>2002</td>\n      <td>Neveda</td>\n      <td>2.9</td>\n      <td>-1.7</td>\n      <td>True</td>\n    </tr>\n    <tr>\n      <th>six</th>\n      <td>2003</td>\n      <td>Neveda</td>\n      <td>3.2</td>\n      <td>NaN</td>\n      <td>True</td>\n    </tr>\n  </tbody>\n</table>\n</div>"
     },
     "metadata": {},
     "execution_count": 106
    }
   ],
   "source": [
    "frame2"
   ]
  },
  {
   "cell_type": "code",
   "execution_count": 107,
   "metadata": {},
   "outputs": [
    {
     "output_type": "execute_result",
     "data": {
      "text/plain": [
       "    name  age  AIforEveryOne  puthon  git  numpy\n",
       "0   Asad   23             89      78   90     98\n",
       "1   Saad   34             78      89   98     87\n",
       "2  Fahad   23             90      87   87     98\n",
       "3    Ali   21             98      89   86     99"
      ],
      "text/html": "<div>\n<style scoped>\n    .dataframe tbody tr th:only-of-type {\n        vertical-align: middle;\n    }\n\n    .dataframe tbody tr th {\n        vertical-align: top;\n    }\n\n    .dataframe thead th {\n        text-align: right;\n    }\n</style>\n<table border=\"1\" class=\"dataframe\">\n  <thead>\n    <tr style=\"text-align: right;\">\n      <th></th>\n      <th>name</th>\n      <th>age</th>\n      <th>AIforEveryOne</th>\n      <th>puthon</th>\n      <th>git</th>\n      <th>numpy</th>\n    </tr>\n  </thead>\n  <tbody>\n    <tr>\n      <th>0</th>\n      <td>Asad</td>\n      <td>23</td>\n      <td>89</td>\n      <td>78</td>\n      <td>90</td>\n      <td>98</td>\n    </tr>\n    <tr>\n      <th>1</th>\n      <td>Saad</td>\n      <td>34</td>\n      <td>78</td>\n      <td>89</td>\n      <td>98</td>\n      <td>87</td>\n    </tr>\n    <tr>\n      <th>2</th>\n      <td>Fahad</td>\n      <td>23</td>\n      <td>90</td>\n      <td>87</td>\n      <td>87</td>\n      <td>98</td>\n    </tr>\n    <tr>\n      <th>3</th>\n      <td>Ali</td>\n      <td>21</td>\n      <td>98</td>\n      <td>89</td>\n      <td>86</td>\n      <td>99</td>\n    </tr>\n  </tbody>\n</table>\n</div>"
     },
     "metadata": {},
     "execution_count": 107
    }
   ],
   "source": [
    "#Create a DataFrame with dictionary\n",
    "data = {\n",
    "            'name':             [\"Asad\", \"Saad\", \"Fahad\", \"Ali\"], \n",
    "            \"age\":              [23, 34, 23, 21], \n",
    "            \"AIforEveryOne\":    [89,78,90,98],\n",
    "            \"puthon\":           [78,89,87,89],\n",
    "            \"git\":              [90,98,87,86],\n",
    "            \"numpy\":            [98,87,98,99]\n",
    "       }\n",
    "data = pd.DataFrame(data)\n",
    "data"
   ]
  },
  {
   "cell_type": "code",
   "execution_count": 108,
   "metadata": {},
   "outputs": [
    {
     "output_type": "execute_result",
     "data": {
      "text/plain": [
       "    name  age  AIforEveryOne  puthon  git  numpy  total  percentage grade\n",
       "0   Asad   23             89      78   90     98    355       88.75    A+\n",
       "1   Saad   34             78      89   98     87    352       88.00    A+\n",
       "2  Fahad   23             90      87   87     98    362       90.50     B\n",
       "3    Ali   21             98      89   86     99    372       93.00     B"
      ],
      "text/html": "<div>\n<style scoped>\n    .dataframe tbody tr th:only-of-type {\n        vertical-align: middle;\n    }\n\n    .dataframe tbody tr th {\n        vertical-align: top;\n    }\n\n    .dataframe thead th {\n        text-align: right;\n    }\n</style>\n<table border=\"1\" class=\"dataframe\">\n  <thead>\n    <tr style=\"text-align: right;\">\n      <th></th>\n      <th>name</th>\n      <th>age</th>\n      <th>AIforEveryOne</th>\n      <th>puthon</th>\n      <th>git</th>\n      <th>numpy</th>\n      <th>total</th>\n      <th>percentage</th>\n      <th>grade</th>\n    </tr>\n  </thead>\n  <tbody>\n    <tr>\n      <th>0</th>\n      <td>Asad</td>\n      <td>23</td>\n      <td>89</td>\n      <td>78</td>\n      <td>90</td>\n      <td>98</td>\n      <td>355</td>\n      <td>88.75</td>\n      <td>A+</td>\n    </tr>\n    <tr>\n      <th>1</th>\n      <td>Saad</td>\n      <td>34</td>\n      <td>78</td>\n      <td>89</td>\n      <td>98</td>\n      <td>87</td>\n      <td>352</td>\n      <td>88.00</td>\n      <td>A+</td>\n    </tr>\n    <tr>\n      <th>2</th>\n      <td>Fahad</td>\n      <td>23</td>\n      <td>90</td>\n      <td>87</td>\n      <td>87</td>\n      <td>98</td>\n      <td>362</td>\n      <td>90.50</td>\n      <td>B</td>\n    </tr>\n    <tr>\n      <th>3</th>\n      <td>Ali</td>\n      <td>21</td>\n      <td>98</td>\n      <td>89</td>\n      <td>86</td>\n      <td>99</td>\n      <td>372</td>\n      <td>93.00</td>\n      <td>B</td>\n    </tr>\n  </tbody>\n</table>\n</div>"
     },
     "metadata": {},
     "execution_count": 108
    }
   ],
   "source": [
    "#Add new columns by calculation some existing columns\n",
    "data['total'] = data['AIforEveryOne']+data['puthon']+data['git']+data['numpy']\n",
    "data['percentage'] = (data['total']/400)*100\n",
    "data['grade'] = [ 'A+' if percent<90.0 else 'A' if 70.0<=percent<80.0 else 'B' for percent in data['percentage'] ]\n",
    "data"
   ]
  },
  {
   "cell_type": "code",
   "execution_count": 109,
   "metadata": {},
   "outputs": [
    {
     "output_type": "execute_result",
     "data": {
      "text/plain": [
       "      Nevada  Ohio\n",
       "2001     2.4   1.7\n",
       "2002     2.9   3.6\n",
       "2000     NaN   1.5"
      ],
      "text/html": "<div>\n<style scoped>\n    .dataframe tbody tr th:only-of-type {\n        vertical-align: middle;\n    }\n\n    .dataframe tbody tr th {\n        vertical-align: top;\n    }\n\n    .dataframe thead th {\n        text-align: right;\n    }\n</style>\n<table border=\"1\" class=\"dataframe\">\n  <thead>\n    <tr style=\"text-align: right;\">\n      <th></th>\n      <th>Nevada</th>\n      <th>Ohio</th>\n    </tr>\n  </thead>\n  <tbody>\n    <tr>\n      <th>2001</th>\n      <td>2.4</td>\n      <td>1.7</td>\n    </tr>\n    <tr>\n      <th>2002</th>\n      <td>2.9</td>\n      <td>3.6</td>\n    </tr>\n    <tr>\n      <th>2000</th>\n      <td>NaN</td>\n      <td>1.5</td>\n    </tr>\n  </tbody>\n</table>\n</div>"
     },
     "metadata": {},
     "execution_count": 109
    }
   ],
   "source": [
    "#Nested dict of dicts\n",
    "pop = {\n",
    "    'Nevada' : {2001: 2.4, 2002: 2.9},\n",
    "    'Ohio':    {2000: 1.5, 2001: 1.7, 2002: 3.6}\n",
    "}\n",
    "df3 = pd.DataFrame(pop)\n",
    "df3"
   ]
  },
  {
   "cell_type": "code",
   "execution_count": 110,
   "metadata": {},
   "outputs": [
    {
     "output_type": "execute_result",
     "data": {
      "text/plain": [
       "        2001  2002  2000\n",
       "Nevada   2.4   2.9   NaN\n",
       "Ohio     1.7   3.6   1.5"
      ],
      "text/html": "<div>\n<style scoped>\n    .dataframe tbody tr th:only-of-type {\n        vertical-align: middle;\n    }\n\n    .dataframe tbody tr th {\n        vertical-align: top;\n    }\n\n    .dataframe thead th {\n        text-align: right;\n    }\n</style>\n<table border=\"1\" class=\"dataframe\">\n  <thead>\n    <tr style=\"text-align: right;\">\n      <th></th>\n      <th>2001</th>\n      <th>2002</th>\n      <th>2000</th>\n    </tr>\n  </thead>\n  <tbody>\n    <tr>\n      <th>Nevada</th>\n      <td>2.4</td>\n      <td>2.9</td>\n      <td>NaN</td>\n    </tr>\n    <tr>\n      <th>Ohio</th>\n      <td>1.7</td>\n      <td>3.6</td>\n      <td>1.5</td>\n    </tr>\n  </tbody>\n</table>\n</div>"
     },
     "metadata": {},
     "execution_count": 110
    }
   ],
   "source": [
    "#Make Transposes\n",
    "df3.T"
   ]
  },
  {
   "cell_type": "code",
   "execution_count": 111,
   "metadata": {},
   "outputs": [
    {
     "output_type": "execute_result",
     "data": {
      "text/plain": [
       "      Nevada  Ohio\n",
       "2001     2.4   1.7\n",
       "2002     2.9   3.6\n",
       "2000     NaN   1.5"
      ],
      "text/html": "<div>\n<style scoped>\n    .dataframe tbody tr th:only-of-type {\n        vertical-align: middle;\n    }\n\n    .dataframe tbody tr th {\n        vertical-align: top;\n    }\n\n    .dataframe thead th {\n        text-align: right;\n    }\n</style>\n<table border=\"1\" class=\"dataframe\">\n  <thead>\n    <tr style=\"text-align: right;\">\n      <th></th>\n      <th>Nevada</th>\n      <th>Ohio</th>\n    </tr>\n  </thead>\n  <tbody>\n    <tr>\n      <th>2001</th>\n      <td>2.4</td>\n      <td>1.7</td>\n    </tr>\n    <tr>\n      <th>2002</th>\n      <td>2.9</td>\n      <td>3.6</td>\n    </tr>\n    <tr>\n      <th>2000</th>\n      <td>NaN</td>\n      <td>1.5</td>\n    </tr>\n  </tbody>\n</table>\n</div>"
     },
     "metadata": {},
     "execution_count": 111
    }
   ],
   "source": [
    "#Note, after taking Transposes, actual DF never change.\n",
    "df3"
   ]
  },
  {
   "cell_type": "code",
   "execution_count": 112,
   "metadata": {},
   "outputs": [
    {
     "output_type": "execute_result",
     "data": {
      "text/plain": [
       "      Nevada  Ohio\n",
       "2001     2.4   1.7\n",
       "2002     2.9   3.6\n",
       "2003     NaN   NaN"
      ],
      "text/html": "<div>\n<style scoped>\n    .dataframe tbody tr th:only-of-type {\n        vertical-align: middle;\n    }\n\n    .dataframe tbody tr th {\n        vertical-align: top;\n    }\n\n    .dataframe thead th {\n        text-align: right;\n    }\n</style>\n<table border=\"1\" class=\"dataframe\">\n  <thead>\n    <tr style=\"text-align: right;\">\n      <th></th>\n      <th>Nevada</th>\n      <th>Ohio</th>\n    </tr>\n  </thead>\n  <tbody>\n    <tr>\n      <th>2001</th>\n      <td>2.4</td>\n      <td>1.7</td>\n    </tr>\n    <tr>\n      <th>2002</th>\n      <td>2.9</td>\n      <td>3.6</td>\n    </tr>\n    <tr>\n      <th>2003</th>\n      <td>NaN</td>\n      <td>NaN</td>\n    </tr>\n  </tbody>\n</table>\n</div>"
     },
     "metadata": {},
     "execution_count": 112
    }
   ],
   "source": [
    "#Adding some new indexs\n",
    "pop1 = pd.DataFrame(pop, index=[2001, 2002, 2003])\n",
    "pop1"
   ]
  },
  {
   "cell_type": "code",
   "execution_count": 113,
   "metadata": {},
   "outputs": [
    {
     "output_type": "execute_result",
     "data": {
      "text/plain": [
       "      Ohio  Nevada\n",
       "2001   1.7     2.4\n",
       "2002   3.6     2.9"
      ],
      "text/html": "<div>\n<style scoped>\n    .dataframe tbody tr th:only-of-type {\n        vertical-align: middle;\n    }\n\n    .dataframe tbody tr th {\n        vertical-align: top;\n    }\n\n    .dataframe thead th {\n        text-align: right;\n    }\n</style>\n<table border=\"1\" class=\"dataframe\">\n  <thead>\n    <tr style=\"text-align: right;\">\n      <th></th>\n      <th>Ohio</th>\n      <th>Nevada</th>\n    </tr>\n  </thead>\n  <tbody>\n    <tr>\n      <th>2001</th>\n      <td>1.7</td>\n      <td>2.4</td>\n    </tr>\n    <tr>\n      <th>2002</th>\n      <td>3.6</td>\n      <td>2.9</td>\n    </tr>\n  </tbody>\n</table>\n</div>"
     },
     "metadata": {},
     "execution_count": 113
    }
   ],
   "source": [
    "#Use slice to assign new value in dicts\n",
    "pdata = {\n",
    "    'Ohio': df3['Ohio'][:-1],   #slice Ohio column and set value to new column Ohio\n",
    "    'Nevada': df3['Nevada'][:2] #slice Nevada column and set value to new column Nevada\n",
    "}\n",
    "pd.DataFrame(pdata)"
   ]
  },
  {
   "cell_type": "code",
   "execution_count": 114,
   "metadata": {},
   "outputs": [
    {
     "output_type": "execute_result",
     "data": {
      "text/plain": [
       "state  Nevada  Ohio\n",
       "year               \n",
       "2001      2.4   1.7\n",
       "2002      2.9   3.6\n",
       "2000      NaN   1.5"
      ],
      "text/html": "<div>\n<style scoped>\n    .dataframe tbody tr th:only-of-type {\n        vertical-align: middle;\n    }\n\n    .dataframe tbody tr th {\n        vertical-align: top;\n    }\n\n    .dataframe thead th {\n        text-align: right;\n    }\n</style>\n<table border=\"1\" class=\"dataframe\">\n  <thead>\n    <tr style=\"text-align: right;\">\n      <th>state</th>\n      <th>Nevada</th>\n      <th>Ohio</th>\n    </tr>\n    <tr>\n      <th>year</th>\n      <th></th>\n      <th></th>\n    </tr>\n  </thead>\n  <tbody>\n    <tr>\n      <th>2001</th>\n      <td>2.4</td>\n      <td>1.7</td>\n    </tr>\n    <tr>\n      <th>2002</th>\n      <td>2.9</td>\n      <td>3.6</td>\n    </tr>\n    <tr>\n      <th>2000</th>\n      <td>NaN</td>\n      <td>1.5</td>\n    </tr>\n  </tbody>\n</table>\n</div>"
     },
     "metadata": {},
     "execution_count": 114
    }
   ],
   "source": [
    "#Set row(index) and column name\n",
    "df3.index.name = 'year'         #Set row(index) name\n",
    "df3.columns.name = 'state'      #Set column name\n",
    "df3"
   ]
  },
  {
   "source": [
    "# Index Objects"
   ],
   "cell_type": "markdown",
   "metadata": {}
  },
  {
   "cell_type": "code",
   "execution_count": 115,
   "metadata": {},
   "outputs": [
    {
     "output_type": "execute_result",
     "data": {
      "text/plain": [
       "Index(['a', 'b', 'c'], dtype='object')"
      ]
     },
     "metadata": {},
     "execution_count": 115
    }
   ],
   "source": [
    "obj = pd.Series(range(3), index=['a','b','c'])\n",
    "index = obj.index   #Get all index of obj\n",
    "index"
   ]
  },
  {
   "cell_type": "code",
   "execution_count": 116,
   "metadata": {},
   "outputs": [
    {
     "output_type": "execute_result",
     "data": {
      "text/plain": [
       "Index(['b', 'c'], dtype='object')"
      ]
     },
     "metadata": {},
     "execution_count": 116
    }
   ],
   "source": [
    "#Index slicing\n",
    "index[1:]"
   ]
  },
  {
   "cell_type": "code",
   "execution_count": 117,
   "metadata": {},
   "outputs": [],
   "source": [
    "#Change value of index 1\n",
    "#index[1] = 'd'      #Note: indexes are immutable, we can not be change index values"
   ]
  },
  {
   "cell_type": "code",
   "execution_count": 118,
   "metadata": {},
   "outputs": [
    {
     "output_type": "execute_result",
     "data": {
      "text/plain": [
       "Index(['a', 'b', 'c', 'd', 'e', 'f'], dtype='object')"
      ]
     },
     "metadata": {},
     "execution_count": 118
    }
   ],
   "source": [
    "labels = pd.Index(['a','b','c','d','e','f'])    \n",
    "labels"
   ]
  },
  {
   "cell_type": "code",
   "execution_count": 119,
   "metadata": {},
   "outputs": [
    {
     "output_type": "execute_result",
     "data": {
      "text/plain": [
       "Index(['state', 'year', 'pop'], dtype='object')"
      ]
     },
     "metadata": {},
     "execution_count": 119
    }
   ],
   "source": [
    "#Set labels into frame \"dataframe\"\n",
    "frame.index = labels\n",
    "frame\n",
    "frame.index\n",
    "frame.columns"
   ]
  },
  {
   "source": [
    "# Essential Functionality"
   ],
   "cell_type": "markdown",
   "metadata": {}
  },
  {
   "cell_type": "code",
   "execution_count": 120,
   "metadata": {},
   "outputs": [
    {
     "output_type": "stream",
     "name": "stdout",
     "text": [
      "The frame is\n       year   state  pop  dept  greaterThenTwo\none    2000    Ohio  1.5     0           False\ntwo    2001    Ohio  1.7     1           False\nthree  2002    Ohio  3.6     2            True\nfour   2001  Neveda  2.4     3            True\nfive   2002  Neveda  2.9     4            True\nsix    2003  Neveda  3.2     5            True\n\nThe row indices are\nIndex(['one', 'two', 'three', 'four', 'five', 'six'], dtype='object')\n\nThe col indices are\nIndex(['year', 'state', 'pop', 'dept', 'greaterThenTwo'], dtype='object')\n\n"
     ]
    }
   ],
   "source": [
    "frame2.dept = np.arange(6)\n",
    "print(\"The frame is\", end=\"\\n\")\n",
    "print(frame2, end=\"\\n\\n\")\n",
    "\n",
    "print(\"The row indices are\", end=\"\\n\")\n",
    "print(frame2.index, end=\"\\n\\n\")\n",
    "\n",
    "print(\"The col indices are\", end=\"\\n\")\n",
    "print(frame2.columns, end=\"\\n\\n\")"
   ]
  },
  {
   "cell_type": "code",
   "execution_count": 121,
   "metadata": {},
   "outputs": [
    {
     "output_type": "execute_result",
     "data": {
      "text/plain": [
       "         year   state  pop  dept greaterThenTwo\n",
       "five   2002.0  Neveda  2.9   4.0           True\n",
       "two    2001.0    Ohio  1.7   1.0          False\n",
       "three  2002.0    Ohio  3.6   2.0           True\n",
       "six    2003.0  Neveda  3.2   5.0           True\n",
       "four   2001.0  Neveda  2.4   3.0           True\n",
       "one    2000.0    Ohio  1.5   0.0          False\n",
       "seven     NaN     NaN  NaN   NaN            NaN"
      ],
      "text/html": "<div>\n<style scoped>\n    .dataframe tbody tr th:only-of-type {\n        vertical-align: middle;\n    }\n\n    .dataframe tbody tr th {\n        vertical-align: top;\n    }\n\n    .dataframe thead th {\n        text-align: right;\n    }\n</style>\n<table border=\"1\" class=\"dataframe\">\n  <thead>\n    <tr style=\"text-align: right;\">\n      <th></th>\n      <th>year</th>\n      <th>state</th>\n      <th>pop</th>\n      <th>dept</th>\n      <th>greaterThenTwo</th>\n    </tr>\n  </thead>\n  <tbody>\n    <tr>\n      <th>five</th>\n      <td>2002.0</td>\n      <td>Neveda</td>\n      <td>2.9</td>\n      <td>4.0</td>\n      <td>True</td>\n    </tr>\n    <tr>\n      <th>two</th>\n      <td>2001.0</td>\n      <td>Ohio</td>\n      <td>1.7</td>\n      <td>1.0</td>\n      <td>False</td>\n    </tr>\n    <tr>\n      <th>three</th>\n      <td>2002.0</td>\n      <td>Ohio</td>\n      <td>3.6</td>\n      <td>2.0</td>\n      <td>True</td>\n    </tr>\n    <tr>\n      <th>six</th>\n      <td>2003.0</td>\n      <td>Neveda</td>\n      <td>3.2</td>\n      <td>5.0</td>\n      <td>True</td>\n    </tr>\n    <tr>\n      <th>four</th>\n      <td>2001.0</td>\n      <td>Neveda</td>\n      <td>2.4</td>\n      <td>3.0</td>\n      <td>True</td>\n    </tr>\n    <tr>\n      <th>one</th>\n      <td>2000.0</td>\n      <td>Ohio</td>\n      <td>1.5</td>\n      <td>0.0</td>\n      <td>False</td>\n    </tr>\n    <tr>\n      <th>seven</th>\n      <td>NaN</td>\n      <td>NaN</td>\n      <td>NaN</td>\n      <td>NaN</td>\n      <td>NaN</td>\n    </tr>\n  </tbody>\n</table>\n</div>"
     },
     "metadata": {},
     "execution_count": 121
    }
   ],
   "source": [
    "#Re-index\n",
    "#Note 1: By default \"row\" are reindex via reindex function\n",
    "#Note 2: We know that reindex never change orignal data, works on copy of the data \n",
    "reindex_frame = frame2.reindex(['five','two','three','six','four','one','seven'])\n",
    "reindex_frame"
   ]
  },
  {
   "cell_type": "code",
   "execution_count": 122,
   "metadata": {},
   "outputs": [
    {
     "output_type": "execute_result",
     "data": {
      "text/plain": [
       "       pop  year  imports  dept   state  exports\n",
       "one    1.5  2000      NaN     0    Ohio      NaN\n",
       "two    1.7  2001      NaN     1    Ohio      NaN\n",
       "three  3.6  2002      NaN     2    Ohio      NaN\n",
       "four   2.4  2001      NaN     3  Neveda      NaN\n",
       "five   2.9  2002      NaN     4  Neveda      NaN\n",
       "six    3.2  2003      NaN     5  Neveda      NaN"
      ],
      "text/html": "<div>\n<style scoped>\n    .dataframe tbody tr th:only-of-type {\n        vertical-align: middle;\n    }\n\n    .dataframe tbody tr th {\n        vertical-align: top;\n    }\n\n    .dataframe thead th {\n        text-align: right;\n    }\n</style>\n<table border=\"1\" class=\"dataframe\">\n  <thead>\n    <tr style=\"text-align: right;\">\n      <th></th>\n      <th>pop</th>\n      <th>year</th>\n      <th>imports</th>\n      <th>dept</th>\n      <th>state</th>\n      <th>exports</th>\n    </tr>\n  </thead>\n  <tbody>\n    <tr>\n      <th>one</th>\n      <td>1.5</td>\n      <td>2000</td>\n      <td>NaN</td>\n      <td>0</td>\n      <td>Ohio</td>\n      <td>NaN</td>\n    </tr>\n    <tr>\n      <th>two</th>\n      <td>1.7</td>\n      <td>2001</td>\n      <td>NaN</td>\n      <td>1</td>\n      <td>Ohio</td>\n      <td>NaN</td>\n    </tr>\n    <tr>\n      <th>three</th>\n      <td>3.6</td>\n      <td>2002</td>\n      <td>NaN</td>\n      <td>2</td>\n      <td>Ohio</td>\n      <td>NaN</td>\n    </tr>\n    <tr>\n      <th>four</th>\n      <td>2.4</td>\n      <td>2001</td>\n      <td>NaN</td>\n      <td>3</td>\n      <td>Neveda</td>\n      <td>NaN</td>\n    </tr>\n    <tr>\n      <th>five</th>\n      <td>2.9</td>\n      <td>2002</td>\n      <td>NaN</td>\n      <td>4</td>\n      <td>Neveda</td>\n      <td>NaN</td>\n    </tr>\n    <tr>\n      <th>six</th>\n      <td>3.2</td>\n      <td>2003</td>\n      <td>NaN</td>\n      <td>5</td>\n      <td>Neveda</td>\n      <td>NaN</td>\n    </tr>\n  </tbody>\n</table>\n</div>"
     },
     "metadata": {},
     "execution_count": 122
    }
   ],
   "source": [
    "#Columns can be re-index\n",
    "reindex_frame = frame2.reindex(columns=['pop','year','imports','dept','state','exports'])\n",
    "reindex_frame"
   ]
  },
  {
   "cell_type": "code",
   "execution_count": 123,
   "metadata": {},
   "outputs": [
    {
     "output_type": "execute_result",
     "data": {
      "text/plain": [
       "      pop  year  imports  dept   state  exports\n",
       "one   1.5  2000      NaN     0    Ohio      NaN\n",
       "two   1.7  2001      NaN     1    Ohio      NaN\n",
       "four  2.4  2001      NaN     3  Neveda      NaN\n",
       "five  2.9  2002      NaN     4  Neveda      NaN"
      ],
      "text/html": "<div>\n<style scoped>\n    .dataframe tbody tr th:only-of-type {\n        vertical-align: middle;\n    }\n\n    .dataframe tbody tr th {\n        vertical-align: top;\n    }\n\n    .dataframe thead th {\n        text-align: right;\n    }\n</style>\n<table border=\"1\" class=\"dataframe\">\n  <thead>\n    <tr style=\"text-align: right;\">\n      <th></th>\n      <th>pop</th>\n      <th>year</th>\n      <th>imports</th>\n      <th>dept</th>\n      <th>state</th>\n      <th>exports</th>\n    </tr>\n  </thead>\n  <tbody>\n    <tr>\n      <th>one</th>\n      <td>1.5</td>\n      <td>2000</td>\n      <td>NaN</td>\n      <td>0</td>\n      <td>Ohio</td>\n      <td>NaN</td>\n    </tr>\n    <tr>\n      <th>two</th>\n      <td>1.7</td>\n      <td>2001</td>\n      <td>NaN</td>\n      <td>1</td>\n      <td>Ohio</td>\n      <td>NaN</td>\n    </tr>\n    <tr>\n      <th>four</th>\n      <td>2.4</td>\n      <td>2001</td>\n      <td>NaN</td>\n      <td>3</td>\n      <td>Neveda</td>\n      <td>NaN</td>\n    </tr>\n    <tr>\n      <th>five</th>\n      <td>2.9</td>\n      <td>2002</td>\n      <td>NaN</td>\n      <td>4</td>\n      <td>Neveda</td>\n      <td>NaN</td>\n    </tr>\n  </tbody>\n</table>\n</div>"
     },
     "metadata": {},
     "execution_count": 123
    }
   ],
   "source": [
    "#Dropping Entries from an Axis\n",
    "#Note 1: By default \"row\" will be drop\n",
    "#Note 2: label for axis=0 is default set\n",
    "row_dropped_frame = reindex_frame.drop(['three','six'])\n",
    "row_dropped_frame"
   ]
  },
  {
   "cell_type": "code",
   "execution_count": 124,
   "metadata": {},
   "outputs": [
    {
     "output_type": "execute_result",
     "data": {
      "text/plain": [
       "       pop  year  dept   state\n",
       "one    1.5  2000     0    Ohio\n",
       "two    1.7  2001     1    Ohio\n",
       "three  3.6  2002     2    Ohio\n",
       "four   2.4  2001     3  Neveda\n",
       "five   2.9  2002     4  Neveda\n",
       "six    3.2  2003     5  Neveda"
      ],
      "text/html": "<div>\n<style scoped>\n    .dataframe tbody tr th:only-of-type {\n        vertical-align: middle;\n    }\n\n    .dataframe tbody tr th {\n        vertical-align: top;\n    }\n\n    .dataframe thead th {\n        text-align: right;\n    }\n</style>\n<table border=\"1\" class=\"dataframe\">\n  <thead>\n    <tr style=\"text-align: right;\">\n      <th></th>\n      <th>pop</th>\n      <th>year</th>\n      <th>dept</th>\n      <th>state</th>\n    </tr>\n  </thead>\n  <tbody>\n    <tr>\n      <th>one</th>\n      <td>1.5</td>\n      <td>2000</td>\n      <td>0</td>\n      <td>Ohio</td>\n    </tr>\n    <tr>\n      <th>two</th>\n      <td>1.7</td>\n      <td>2001</td>\n      <td>1</td>\n      <td>Ohio</td>\n    </tr>\n    <tr>\n      <th>three</th>\n      <td>3.6</td>\n      <td>2002</td>\n      <td>2</td>\n      <td>Ohio</td>\n    </tr>\n    <tr>\n      <th>four</th>\n      <td>2.4</td>\n      <td>2001</td>\n      <td>3</td>\n      <td>Neveda</td>\n    </tr>\n    <tr>\n      <th>five</th>\n      <td>2.9</td>\n      <td>2002</td>\n      <td>4</td>\n      <td>Neveda</td>\n    </tr>\n    <tr>\n      <th>six</th>\n      <td>3.2</td>\n      <td>2003</td>\n      <td>5</td>\n      <td>Neveda</td>\n    </tr>\n  </tbody>\n</table>\n</div>"
     },
     "metadata": {},
     "execution_count": 124
    }
   ],
   "source": [
    "#Note: label axis=1 is for column\n",
    "column_dropped_frame = reindex_frame.drop(['imports','exports'], axis=1)\n",
    "column_dropped_frame"
   ]
  },
  {
   "source": [
    "# Another Example"
   ],
   "cell_type": "markdown",
   "metadata": {}
  },
  {
   "cell_type": "code",
   "execution_count": 129,
   "metadata": {},
   "outputs": [
    {
     "output_type": "execute_result",
     "data": {
      "text/plain": [
       "           http_status  responce_time\n",
       "Firefox            200           0.04\n",
       "Chrome             200           0.02\n",
       "Safari             404           0.07\n",
       "IE10               404           0.08\n",
       "Konqueror          301           1.00"
      ],
      "text/html": "<div>\n<style scoped>\n    .dataframe tbody tr th:only-of-type {\n        vertical-align: middle;\n    }\n\n    .dataframe tbody tr th {\n        vertical-align: top;\n    }\n\n    .dataframe thead th {\n        text-align: right;\n    }\n</style>\n<table border=\"1\" class=\"dataframe\">\n  <thead>\n    <tr style=\"text-align: right;\">\n      <th></th>\n      <th>http_status</th>\n      <th>responce_time</th>\n    </tr>\n  </thead>\n  <tbody>\n    <tr>\n      <th>Firefox</th>\n      <td>200</td>\n      <td>0.04</td>\n    </tr>\n    <tr>\n      <th>Chrome</th>\n      <td>200</td>\n      <td>0.02</td>\n    </tr>\n    <tr>\n      <th>Safari</th>\n      <td>404</td>\n      <td>0.07</td>\n    </tr>\n    <tr>\n      <th>IE10</th>\n      <td>404</td>\n      <td>0.08</td>\n    </tr>\n    <tr>\n      <th>Konqueror</th>\n      <td>301</td>\n      <td>1.00</td>\n    </tr>\n  </tbody>\n</table>\n</div>"
     },
     "metadata": {},
     "execution_count": 129
    }
   ],
   "source": [
    "index = ['Firefox','Chrome','Safari','IE10','Konqueror']\n",
    "df = pd.DataFrame({\n",
    "    'http_status':  [200,200,404,404,301],\n",
    "    'responce_time': [0.04, 0.02, 0.07, 0.08, 1.0],\n",
    "},index=index)\n",
    "df"
   ]
  },
  {
   "cell_type": "code",
   "execution_count": 130,
   "metadata": {},
   "outputs": [
    {
     "output_type": "execute_result",
     "data": {
      "text/plain": [
       "               http_status  responce_time\n",
       "Safari               404.0           0.07\n",
       "Iceweasel              NaN            NaN\n",
       "Comodo Dragon          NaN            NaN\n",
       "IE10                 404.0           0.08\n",
       "Chrome               200.0           0.02"
      ],
      "text/html": "<div>\n<style scoped>\n    .dataframe tbody tr th:only-of-type {\n        vertical-align: middle;\n    }\n\n    .dataframe tbody tr th {\n        vertical-align: top;\n    }\n\n    .dataframe thead th {\n        text-align: right;\n    }\n</style>\n<table border=\"1\" class=\"dataframe\">\n  <thead>\n    <tr style=\"text-align: right;\">\n      <th></th>\n      <th>http_status</th>\n      <th>responce_time</th>\n    </tr>\n  </thead>\n  <tbody>\n    <tr>\n      <th>Safari</th>\n      <td>404.0</td>\n      <td>0.07</td>\n    </tr>\n    <tr>\n      <th>Iceweasel</th>\n      <td>NaN</td>\n      <td>NaN</td>\n    </tr>\n    <tr>\n      <th>Comodo Dragon</th>\n      <td>NaN</td>\n      <td>NaN</td>\n    </tr>\n    <tr>\n      <th>IE10</th>\n      <td>404.0</td>\n      <td>0.08</td>\n    </tr>\n    <tr>\n      <th>Chrome</th>\n      <td>200.0</td>\n      <td>0.02</td>\n    </tr>\n  </tbody>\n</table>\n</div>"
     },
     "metadata": {},
     "execution_count": 130
    }
   ],
   "source": [
    "#reindex\n",
    "new_index = ['Safari', 'Iceweasel', 'Comodo Dragon', 'IE10', 'Chrome']\n",
    "df.reindex(new_index)"
   ]
  },
  {
   "cell_type": "code",
   "execution_count": 131,
   "metadata": {},
   "outputs": [
    {
     "output_type": "execute_result",
     "data": {
      "text/plain": [
       "               http_status  responce_time\n",
       "Safari                 404           0.07\n",
       "Iceweasel                0           0.00\n",
       "Comodo Dragon            0           0.00\n",
       "IE10                   404           0.08\n",
       "Chrome                 200           0.02"
      ],
      "text/html": "<div>\n<style scoped>\n    .dataframe tbody tr th:only-of-type {\n        vertical-align: middle;\n    }\n\n    .dataframe tbody tr th {\n        vertical-align: top;\n    }\n\n    .dataframe thead th {\n        text-align: right;\n    }\n</style>\n<table border=\"1\" class=\"dataframe\">\n  <thead>\n    <tr style=\"text-align: right;\">\n      <th></th>\n      <th>http_status</th>\n      <th>responce_time</th>\n    </tr>\n  </thead>\n  <tbody>\n    <tr>\n      <th>Safari</th>\n      <td>404</td>\n      <td>0.07</td>\n    </tr>\n    <tr>\n      <th>Iceweasel</th>\n      <td>0</td>\n      <td>0.00</td>\n    </tr>\n    <tr>\n      <th>Comodo Dragon</th>\n      <td>0</td>\n      <td>0.00</td>\n    </tr>\n    <tr>\n      <th>IE10</th>\n      <td>404</td>\n      <td>0.08</td>\n    </tr>\n    <tr>\n      <th>Chrome</th>\n      <td>200</td>\n      <td>0.02</td>\n    </tr>\n  </tbody>\n</table>\n</div>"
     },
     "metadata": {},
     "execution_count": 131
    }
   ],
   "source": [
    "#fill missing value with 0\n",
    "df.reindex(new_index, fill_value=0)"
   ]
  },
  {
   "cell_type": "code",
   "execution_count": 132,
   "metadata": {},
   "outputs": [
    {
     "output_type": "execute_result",
     "data": {
      "text/plain": [
       "              http_status responce_time\n",
       "Safari                404          0.07\n",
       "Iceweasel         missing       missing\n",
       "Comodo Dragon     missing       missing\n",
       "IE10                  404          0.08\n",
       "Chrome                200          0.02"
      ],
      "text/html": "<div>\n<style scoped>\n    .dataframe tbody tr th:only-of-type {\n        vertical-align: middle;\n    }\n\n    .dataframe tbody tr th {\n        vertical-align: top;\n    }\n\n    .dataframe thead th {\n        text-align: right;\n    }\n</style>\n<table border=\"1\" class=\"dataframe\">\n  <thead>\n    <tr style=\"text-align: right;\">\n      <th></th>\n      <th>http_status</th>\n      <th>responce_time</th>\n    </tr>\n  </thead>\n  <tbody>\n    <tr>\n      <th>Safari</th>\n      <td>404</td>\n      <td>0.07</td>\n    </tr>\n    <tr>\n      <th>Iceweasel</th>\n      <td>missing</td>\n      <td>missing</td>\n    </tr>\n    <tr>\n      <th>Comodo Dragon</th>\n      <td>missing</td>\n      <td>missing</td>\n    </tr>\n    <tr>\n      <th>IE10</th>\n      <td>404</td>\n      <td>0.08</td>\n    </tr>\n    <tr>\n      <th>Chrome</th>\n      <td>200</td>\n      <td>0.02</td>\n    </tr>\n  </tbody>\n</table>\n</div>"
     },
     "metadata": {},
     "execution_count": 132
    }
   ],
   "source": [
    "#fill missing value with missing string\n",
    "df.reindex(new_index, fill_value='missing') "
   ]
  },
  {
   "cell_type": "code",
   "execution_count": 136,
   "metadata": {},
   "outputs": [
    {
     "output_type": "execute_result",
     "data": {
      "text/plain": [
       "           http_status  user_agent\n",
       "Firefox            200         NaN\n",
       "Chrome             200         NaN\n",
       "Safari             404         NaN\n",
       "IE10               404         NaN\n",
       "Konqueror          301         NaN"
      ],
      "text/html": "<div>\n<style scoped>\n    .dataframe tbody tr th:only-of-type {\n        vertical-align: middle;\n    }\n\n    .dataframe tbody tr th {\n        vertical-align: top;\n    }\n\n    .dataframe thead th {\n        text-align: right;\n    }\n</style>\n<table border=\"1\" class=\"dataframe\">\n  <thead>\n    <tr style=\"text-align: right;\">\n      <th></th>\n      <th>http_status</th>\n      <th>user_agent</th>\n    </tr>\n  </thead>\n  <tbody>\n    <tr>\n      <th>Firefox</th>\n      <td>200</td>\n      <td>NaN</td>\n    </tr>\n    <tr>\n      <th>Chrome</th>\n      <td>200</td>\n      <td>NaN</td>\n    </tr>\n    <tr>\n      <th>Safari</th>\n      <td>404</td>\n      <td>NaN</td>\n    </tr>\n    <tr>\n      <th>IE10</th>\n      <td>404</td>\n      <td>NaN</td>\n    </tr>\n    <tr>\n      <th>Konqueror</th>\n      <td>301</td>\n      <td>NaN</td>\n    </tr>\n  </tbody>\n</table>\n</div>"
     },
     "metadata": {},
     "execution_count": 136
    }
   ],
   "source": [
    "#Column re-indexing,there ar two ways\n",
    "df.reindex(columns=['http_status','user_agent'])          #Both are same\n",
    "df.reindex(['http_status','user_agent'], axis=\"columns\")  #Both are same (axis style)"
   ]
  },
  {
   "cell_type": "code",
   "execution_count": 151,
   "metadata": {},
   "outputs": [
    {
     "output_type": "execute_result",
     "data": {
      "text/plain": [
       "            prices\n",
       "2010-01-01   100.0\n",
       "2010-01-02   101.0\n",
       "2010-01-03     NaN\n",
       "2010-01-04   100.0\n",
       "2010-01-05    89.0\n",
       "2010-01-06    88.0"
      ],
      "text/html": "<div>\n<style scoped>\n    .dataframe tbody tr th:only-of-type {\n        vertical-align: middle;\n    }\n\n    .dataframe tbody tr th {\n        vertical-align: top;\n    }\n\n    .dataframe thead th {\n        text-align: right;\n    }\n</style>\n<table border=\"1\" class=\"dataframe\">\n  <thead>\n    <tr style=\"text-align: right;\">\n      <th></th>\n      <th>prices</th>\n    </tr>\n  </thead>\n  <tbody>\n    <tr>\n      <th>2010-01-01</th>\n      <td>100.0</td>\n    </tr>\n    <tr>\n      <th>2010-01-02</th>\n      <td>101.0</td>\n    </tr>\n    <tr>\n      <th>2010-01-03</th>\n      <td>NaN</td>\n    </tr>\n    <tr>\n      <th>2010-01-04</th>\n      <td>100.0</td>\n    </tr>\n    <tr>\n      <th>2010-01-05</th>\n      <td>89.0</td>\n    </tr>\n    <tr>\n      <th>2010-01-06</th>\n      <td>88.0</td>\n    </tr>\n  </tbody>\n</table>\n</div>"
     },
     "metadata": {},
     "execution_count": 151
    }
   ],
   "source": [
    "date_index = pd.date_range('1/1/2010', periods=6, freq='D')\n",
    "df2 = pd.DataFrame( {\"prices\": [100, 101, np.nan, 100, 89, 88]}, index=date_index)\n",
    "df2"
   ]
  },
  {
   "cell_type": "code",
   "execution_count": 145,
   "metadata": {},
   "outputs": [
    {
     "output_type": "execute_result",
     "data": {
      "text/plain": [
       "            prices\n",
       "2009-12-29     NaN\n",
       "2009-12-30     NaN\n",
       "2009-12-31     NaN\n",
       "2010-01-01   100.0\n",
       "2010-01-02   101.0\n",
       "2010-01-03     NaN\n",
       "2010-01-04   100.0\n",
       "2010-01-05    89.0\n",
       "2010-01-06    88.0\n",
       "2010-01-07     NaN"
      ],
      "text/html": "<div>\n<style scoped>\n    .dataframe tbody tr th:only-of-type {\n        vertical-align: middle;\n    }\n\n    .dataframe tbody tr th {\n        vertical-align: top;\n    }\n\n    .dataframe thead th {\n        text-align: right;\n    }\n</style>\n<table border=\"1\" class=\"dataframe\">\n  <thead>\n    <tr style=\"text-align: right;\">\n      <th></th>\n      <th>prices</th>\n    </tr>\n  </thead>\n  <tbody>\n    <tr>\n      <th>2009-12-29</th>\n      <td>NaN</td>\n    </tr>\n    <tr>\n      <th>2009-12-30</th>\n      <td>NaN</td>\n    </tr>\n    <tr>\n      <th>2009-12-31</th>\n      <td>NaN</td>\n    </tr>\n    <tr>\n      <th>2010-01-01</th>\n      <td>100.0</td>\n    </tr>\n    <tr>\n      <th>2010-01-02</th>\n      <td>101.0</td>\n    </tr>\n    <tr>\n      <th>2010-01-03</th>\n      <td>NaN</td>\n    </tr>\n    <tr>\n      <th>2010-01-04</th>\n      <td>100.0</td>\n    </tr>\n    <tr>\n      <th>2010-01-05</th>\n      <td>89.0</td>\n    </tr>\n    <tr>\n      <th>2010-01-06</th>\n      <td>88.0</td>\n    </tr>\n    <tr>\n      <th>2010-01-07</th>\n      <td>NaN</td>\n    </tr>\n  </tbody>\n</table>\n</div>"
     },
     "metadata": {},
     "execution_count": 145
    }
   ],
   "source": [
    "#re-indexing with dates\n",
    "date_index2 = pd.date_range('12/29/2009', periods=10, freq='D')\n",
    "df2.reindex(date_index2)"
   ]
  },
  {
   "cell_type": "code",
   "execution_count": 153,
   "metadata": {},
   "outputs": [
    {
     "output_type": "execute_result",
     "data": {
      "text/plain": [
       "            prices\n",
       "2009-12-29   100.0\n",
       "2009-12-30   100.0\n",
       "2009-12-31   100.0\n",
       "2010-01-01   100.0\n",
       "2010-01-02   101.0\n",
       "2010-01-03     NaN\n",
       "2010-01-04   100.0\n",
       "2010-01-05    89.0\n",
       "2010-01-06    88.0\n",
       "2010-01-07     NaN"
      ],
      "text/html": "<div>\n<style scoped>\n    .dataframe tbody tr th:only-of-type {\n        vertical-align: middle;\n    }\n\n    .dataframe tbody tr th {\n        vertical-align: top;\n    }\n\n    .dataframe thead th {\n        text-align: right;\n    }\n</style>\n<table border=\"1\" class=\"dataframe\">\n  <thead>\n    <tr style=\"text-align: right;\">\n      <th></th>\n      <th>prices</th>\n    </tr>\n  </thead>\n  <tbody>\n    <tr>\n      <th>2009-12-29</th>\n      <td>100.0</td>\n    </tr>\n    <tr>\n      <th>2009-12-30</th>\n      <td>100.0</td>\n    </tr>\n    <tr>\n      <th>2009-12-31</th>\n      <td>100.0</td>\n    </tr>\n    <tr>\n      <th>2010-01-01</th>\n      <td>100.0</td>\n    </tr>\n    <tr>\n      <th>2010-01-02</th>\n      <td>101.0</td>\n    </tr>\n    <tr>\n      <th>2010-01-03</th>\n      <td>NaN</td>\n    </tr>\n    <tr>\n      <th>2010-01-04</th>\n      <td>100.0</td>\n    </tr>\n    <tr>\n      <th>2010-01-05</th>\n      <td>89.0</td>\n    </tr>\n    <tr>\n      <th>2010-01-06</th>\n      <td>88.0</td>\n    </tr>\n    <tr>\n      <th>2010-01-07</th>\n      <td>NaN</td>\n    </tr>\n  </tbody>\n</table>\n</div>"
     },
     "metadata": {},
     "execution_count": 153
    }
   ],
   "source": [
    "#bfill fill all unindex value with back propogated value, except existing value dated = '2010-01-03', remain unchange\n",
    "df2.reindex(date_index2, method='bfill')"
   ]
  },
  {
   "source": [
    "# Indexing, Selection, and Filtering "
   ],
   "cell_type": "markdown",
   "metadata": {}
  },
  {
   "cell_type": "code",
   "execution_count": 158,
   "metadata": {},
   "outputs": [
    {
     "output_type": "execute_result",
     "data": {
      "text/plain": [
       "            Jan  Fab  Mar  Apr\n",
       "Ohio          0    1    2    3\n",
       "Colorado      4    5    6    7\n",
       "Washington    8    9   10   11\n",
       "Nebraska     12   13   14   15\n",
       "Utah         16   17   18   19\n",
       "New Yark     20   21   22   23\n",
       "Califorina   24   25   26   27\n",
       "Texas        28   29   30   31\n",
       "Georgega     32   33   34   35\n",
       "Alaska       36   37   38   39"
      ],
      "text/html": "<div>\n<style scoped>\n    .dataframe tbody tr th:only-of-type {\n        vertical-align: middle;\n    }\n\n    .dataframe tbody tr th {\n        vertical-align: top;\n    }\n\n    .dataframe thead th {\n        text-align: right;\n    }\n</style>\n<table border=\"1\" class=\"dataframe\">\n  <thead>\n    <tr style=\"text-align: right;\">\n      <th></th>\n      <th>Jan</th>\n      <th>Fab</th>\n      <th>Mar</th>\n      <th>Apr</th>\n    </tr>\n  </thead>\n  <tbody>\n    <tr>\n      <th>Ohio</th>\n      <td>0</td>\n      <td>1</td>\n      <td>2</td>\n      <td>3</td>\n    </tr>\n    <tr>\n      <th>Colorado</th>\n      <td>4</td>\n      <td>5</td>\n      <td>6</td>\n      <td>7</td>\n    </tr>\n    <tr>\n      <th>Washington</th>\n      <td>8</td>\n      <td>9</td>\n      <td>10</td>\n      <td>11</td>\n    </tr>\n    <tr>\n      <th>Nebraska</th>\n      <td>12</td>\n      <td>13</td>\n      <td>14</td>\n      <td>15</td>\n    </tr>\n    <tr>\n      <th>Utah</th>\n      <td>16</td>\n      <td>17</td>\n      <td>18</td>\n      <td>19</td>\n    </tr>\n    <tr>\n      <th>New Yark</th>\n      <td>20</td>\n      <td>21</td>\n      <td>22</td>\n      <td>23</td>\n    </tr>\n    <tr>\n      <th>Califorina</th>\n      <td>24</td>\n      <td>25</td>\n      <td>26</td>\n      <td>27</td>\n    </tr>\n    <tr>\n      <th>Texas</th>\n      <td>28</td>\n      <td>29</td>\n      <td>30</td>\n      <td>31</td>\n    </tr>\n    <tr>\n      <th>Georgega</th>\n      <td>32</td>\n      <td>33</td>\n      <td>34</td>\n      <td>35</td>\n    </tr>\n    <tr>\n      <th>Alaska</th>\n      <td>36</td>\n      <td>37</td>\n      <td>38</td>\n      <td>39</td>\n    </tr>\n  </tbody>\n</table>\n</div>"
     },
     "metadata": {},
     "execution_count": 158
    }
   ],
   "source": [
    "data = pd.DataFrame(np.arange(40).reshape((10,4)), index=['Ohio','Colorado','Washington','Nebraska','Utah','New Yark','Califorina','Texas','Georgega','Alaska'], columns=['Jan','Fab','Mar','Apr'])\n",
    "data"
   ]
  },
  {
   "cell_type": "code",
   "execution_count": 160,
   "metadata": {},
   "outputs": [
    {
     "output_type": "execute_result",
     "data": {
      "text/plain": [
       "Ohio           0\n",
       "Colorado       4\n",
       "Washington     8\n",
       "Nebraska      12\n",
       "Utah          16\n",
       "New Yark      20\n",
       "Califorina    24\n",
       "Texas         28\n",
       "Georgega      32\n",
       "Alaska        36\n",
       "Name: Jan, dtype: int32"
      ]
     },
     "metadata": {},
     "execution_count": 160
    }
   ],
   "source": [
    "#Getting single column (label based)\n",
    "data['Jan']"
   ]
  },
  {
   "cell_type": "code",
   "execution_count": 162,
   "metadata": {},
   "outputs": [
    {
     "output_type": "execute_result",
     "data": {
      "text/plain": [
       "            Jan  Apr\n",
       "Ohio          0    3\n",
       "Colorado      4    7\n",
       "Washington    8   11\n",
       "Nebraska     12   15\n",
       "Utah         16   19\n",
       "New Yark     20   23\n",
       "Califorina   24   27\n",
       "Texas        28   31\n",
       "Georgega     32   35\n",
       "Alaska       36   39"
      ],
      "text/html": "<div>\n<style scoped>\n    .dataframe tbody tr th:only-of-type {\n        vertical-align: middle;\n    }\n\n    .dataframe tbody tr th {\n        vertical-align: top;\n    }\n\n    .dataframe thead th {\n        text-align: right;\n    }\n</style>\n<table border=\"1\" class=\"dataframe\">\n  <thead>\n    <tr style=\"text-align: right;\">\n      <th></th>\n      <th>Jan</th>\n      <th>Apr</th>\n    </tr>\n  </thead>\n  <tbody>\n    <tr>\n      <th>Ohio</th>\n      <td>0</td>\n      <td>3</td>\n    </tr>\n    <tr>\n      <th>Colorado</th>\n      <td>4</td>\n      <td>7</td>\n    </tr>\n    <tr>\n      <th>Washington</th>\n      <td>8</td>\n      <td>11</td>\n    </tr>\n    <tr>\n      <th>Nebraska</th>\n      <td>12</td>\n      <td>15</td>\n    </tr>\n    <tr>\n      <th>Utah</th>\n      <td>16</td>\n      <td>19</td>\n    </tr>\n    <tr>\n      <th>New Yark</th>\n      <td>20</td>\n      <td>23</td>\n    </tr>\n    <tr>\n      <th>Califorina</th>\n      <td>24</td>\n      <td>27</td>\n    </tr>\n    <tr>\n      <th>Texas</th>\n      <td>28</td>\n      <td>31</td>\n    </tr>\n    <tr>\n      <th>Georgega</th>\n      <td>32</td>\n      <td>35</td>\n    </tr>\n    <tr>\n      <th>Alaska</th>\n      <td>36</td>\n      <td>39</td>\n    </tr>\n  </tbody>\n</table>\n</div>"
     },
     "metadata": {},
     "execution_count": 162
    }
   ],
   "source": [
    "#Getting multiple columns (label based)\n",
    "data[['Jan','Apr']]"
   ]
  },
  {
   "cell_type": "code",
   "execution_count": 164,
   "metadata": {},
   "outputs": [
    {
     "output_type": "execute_result",
     "data": {
      "text/plain": [
       "          Jan  Fab  Mar  Apr\n",
       "Ohio        0    1    2    3\n",
       "Colorado    4    5    6    7"
      ],
      "text/html": "<div>\n<style scoped>\n    .dataframe tbody tr th:only-of-type {\n        vertical-align: middle;\n    }\n\n    .dataframe tbody tr th {\n        vertical-align: top;\n    }\n\n    .dataframe thead th {\n        text-align: right;\n    }\n</style>\n<table border=\"1\" class=\"dataframe\">\n  <thead>\n    <tr style=\"text-align: right;\">\n      <th></th>\n      <th>Jan</th>\n      <th>Fab</th>\n      <th>Mar</th>\n      <th>Apr</th>\n    </tr>\n  </thead>\n  <tbody>\n    <tr>\n      <th>Ohio</th>\n      <td>0</td>\n      <td>1</td>\n      <td>2</td>\n      <td>3</td>\n    </tr>\n    <tr>\n      <th>Colorado</th>\n      <td>4</td>\n      <td>5</td>\n      <td>6</td>\n      <td>7</td>\n    </tr>\n  </tbody>\n</table>\n</div>"
     },
     "metadata": {},
     "execution_count": 164
    }
   ],
   "source": [
    "#Getting columns (integer based), in integer base slicing \"0\" can not included\n",
    "data[:2]        #both are same, slicing rows from 0 and take 2 rows\n",
    "data[0:2]       #both are same, slicing rows from 0 and take 2 rows"
   ]
  },
  {
   "cell_type": "code",
   "execution_count": 166,
   "metadata": {},
   "outputs": [
    {
     "output_type": "execute_result",
     "data": {
      "text/plain": [
       "            Jan  Fab  Mar  Apr\n",
       "Utah         16   17   18   19\n",
       "New Yark     20   21   22   23\n",
       "Califorina   24   25   26   27\n",
       "Texas        28   29   30   31"
      ],
      "text/html": "<div>\n<style scoped>\n    .dataframe tbody tr th:only-of-type {\n        vertical-align: middle;\n    }\n\n    .dataframe tbody tr th {\n        vertical-align: top;\n    }\n\n    .dataframe thead th {\n        text-align: right;\n    }\n</style>\n<table border=\"1\" class=\"dataframe\">\n  <thead>\n    <tr style=\"text-align: right;\">\n      <th></th>\n      <th>Jan</th>\n      <th>Fab</th>\n      <th>Mar</th>\n      <th>Apr</th>\n    </tr>\n  </thead>\n  <tbody>\n    <tr>\n      <th>Utah</th>\n      <td>16</td>\n      <td>17</td>\n      <td>18</td>\n      <td>19</td>\n    </tr>\n    <tr>\n      <th>New Yark</th>\n      <td>20</td>\n      <td>21</td>\n      <td>22</td>\n      <td>23</td>\n    </tr>\n    <tr>\n      <th>Califorina</th>\n      <td>24</td>\n      <td>25</td>\n      <td>26</td>\n      <td>27</td>\n    </tr>\n    <tr>\n      <th>Texas</th>\n      <td>28</td>\n      <td>29</td>\n      <td>30</td>\n      <td>31</td>\n    </tr>\n  </tbody>\n</table>\n</div>"
     },
     "metadata": {},
     "execution_count": 166
    }
   ],
   "source": [
    "#Getting columns (label based), in label base slicing \"Utah\" will be included\n",
    "data[:\"Texas\"]              #both are same, slicing rows from 0 and take 2 rows\n",
    "data[\"Utah\":\"Texas\"]        #both are same, slicing rows from 0 and take 2 rows"
   ]
  },
  {
   "cell_type": "code",
   "execution_count": 169,
   "metadata": {},
   "outputs": [
    {
     "output_type": "execute_result",
     "data": {
      "text/plain": [
       "            Jan  Fab  Mar\n",
       "Utah         16   17   18\n",
       "New Yark     20   21   22\n",
       "Califorina   24   25   26\n",
       "Texas        28   29   30"
      ],
      "text/html": "<div>\n<style scoped>\n    .dataframe tbody tr th:only-of-type {\n        vertical-align: middle;\n    }\n\n    .dataframe tbody tr th {\n        vertical-align: top;\n    }\n\n    .dataframe thead th {\n        text-align: right;\n    }\n</style>\n<table border=\"1\" class=\"dataframe\">\n  <thead>\n    <tr style=\"text-align: right;\">\n      <th></th>\n      <th>Jan</th>\n      <th>Fab</th>\n      <th>Mar</th>\n    </tr>\n  </thead>\n  <tbody>\n    <tr>\n      <th>Utah</th>\n      <td>16</td>\n      <td>17</td>\n      <td>18</td>\n    </tr>\n    <tr>\n      <th>New Yark</th>\n      <td>20</td>\n      <td>21</td>\n      <td>22</td>\n    </tr>\n    <tr>\n      <th>Califorina</th>\n      <td>24</td>\n      <td>25</td>\n      <td>26</td>\n    </tr>\n    <tr>\n      <th>Texas</th>\n      <td>28</td>\n      <td>29</td>\n      <td>30</td>\n    </tr>\n  </tbody>\n</table>\n</div>"
     },
     "metadata": {},
     "execution_count": 169
    }
   ],
   "source": [
    "#Slicing subset of \"rows\" and \"columns\", (Label based)\n",
    "data.loc[\"Utah\":\"Texas\", \"Jan\":\"Mar\"]"
   ]
  },
  {
   "cell_type": "code",
   "execution_count": 170,
   "metadata": {},
   "outputs": [
    {
     "output_type": "execute_result",
     "data": {
      "text/plain": [
       "            Jan  Fab\n",
       "Washington    8    9\n",
       "Nebraska     12   13\n",
       "Utah         16   17\n",
       "New Yark     20   21"
      ],
      "text/html": "<div>\n<style scoped>\n    .dataframe tbody tr th:only-of-type {\n        vertical-align: middle;\n    }\n\n    .dataframe tbody tr th {\n        vertical-align: top;\n    }\n\n    .dataframe thead th {\n        text-align: right;\n    }\n</style>\n<table border=\"1\" class=\"dataframe\">\n  <thead>\n    <tr style=\"text-align: right;\">\n      <th></th>\n      <th>Jan</th>\n      <th>Fab</th>\n    </tr>\n  </thead>\n  <tbody>\n    <tr>\n      <th>Washington</th>\n      <td>8</td>\n      <td>9</td>\n    </tr>\n    <tr>\n      <th>Nebraska</th>\n      <td>12</td>\n      <td>13</td>\n    </tr>\n    <tr>\n      <th>Utah</th>\n      <td>16</td>\n      <td>17</td>\n    </tr>\n    <tr>\n      <th>New Yark</th>\n      <td>20</td>\n      <td>21</td>\n    </tr>\n  </tbody>\n</table>\n</div>"
     },
     "metadata": {},
     "execution_count": 170
    }
   ],
   "source": [
    "#Slicing subset of \"rows\" and \"columns\", (integer based)\n",
    "data.iloc[2:6, 0:2]"
   ]
  },
  {
   "cell_type": "code",
   "execution_count": 172,
   "metadata": {},
   "outputs": [
    {
     "output_type": "execute_result",
     "data": {
      "text/plain": [
       "          p\n",
       "0  1.000000\n",
       "1  0.500000\n",
       "2  0.333333"
      ],
      "text/html": "<div>\n<style scoped>\n    .dataframe tbody tr th:only-of-type {\n        vertical-align: middle;\n    }\n\n    .dataframe tbody tr th {\n        vertical-align: top;\n    }\n\n    .dataframe thead th {\n        text-align: right;\n    }\n</style>\n<table border=\"1\" class=\"dataframe\">\n  <thead>\n    <tr style=\"text-align: right;\">\n      <th></th>\n      <th>p</th>\n    </tr>\n  </thead>\n  <tbody>\n    <tr>\n      <th>0</th>\n      <td>1.000000</td>\n    </tr>\n    <tr>\n      <th>1</th>\n      <td>0.500000</td>\n    </tr>\n    <tr>\n      <th>2</th>\n      <td>0.333333</td>\n    </tr>\n  </tbody>\n</table>\n</div>"
     },
     "metadata": {},
     "execution_count": 172
    }
   ],
   "source": [
    "a = pd.DataFrame({\"p\": [2,4,6]})\n",
    "a.div(2)                #Divide by 2\n",
    "a.rdiv(2)               #Divide by 2 (reverse divide by)"
   ]
  },
  {
   "cell_type": "code",
   "execution_count": 173,
   "metadata": {},
   "outputs": [
    {
     "output_type": "execute_result",
     "data": {
      "text/plain": [
       "Ohio          False\n",
       "Colorado      False\n",
       "Washington    False\n",
       "Nebraska      False\n",
       "Utah          False\n",
       "New Yark       True\n",
       "Califorina     True\n",
       "Texas          True\n",
       "Georgega       True\n",
       "Alaska         True\n",
       "Name: Mar, dtype: bool"
      ]
     },
     "metadata": {},
     "execution_count": 173
    }
   ],
   "source": [
    "#Get monthwise record in bool\n",
    "data['Mar'] > 20"
   ]
  },
  {
   "cell_type": "code",
   "execution_count": 175,
   "metadata": {},
   "outputs": [
    {
     "output_type": "execute_result",
     "data": {
      "text/plain": [
       "            Jan  Fab  Mar  Apr\n",
       "New Yark     20   21   22   23\n",
       "Califorina   24   25   26   27\n",
       "Texas        28   29   30   31\n",
       "Georgega     32   33   34   35\n",
       "Alaska       36   37   38   39"
      ],
      "text/html": "<div>\n<style scoped>\n    .dataframe tbody tr th:only-of-type {\n        vertical-align: middle;\n    }\n\n    .dataframe tbody tr th {\n        vertical-align: top;\n    }\n\n    .dataframe thead th {\n        text-align: right;\n    }\n</style>\n<table border=\"1\" class=\"dataframe\">\n  <thead>\n    <tr style=\"text-align: right;\">\n      <th></th>\n      <th>Jan</th>\n      <th>Fab</th>\n      <th>Mar</th>\n      <th>Apr</th>\n    </tr>\n  </thead>\n  <tbody>\n    <tr>\n      <th>New Yark</th>\n      <td>20</td>\n      <td>21</td>\n      <td>22</td>\n      <td>23</td>\n    </tr>\n    <tr>\n      <th>Califorina</th>\n      <td>24</td>\n      <td>25</td>\n      <td>26</td>\n      <td>27</td>\n    </tr>\n    <tr>\n      <th>Texas</th>\n      <td>28</td>\n      <td>29</td>\n      <td>30</td>\n      <td>31</td>\n    </tr>\n    <tr>\n      <th>Georgega</th>\n      <td>32</td>\n      <td>33</td>\n      <td>34</td>\n      <td>35</td>\n    </tr>\n    <tr>\n      <th>Alaska</th>\n      <td>36</td>\n      <td>37</td>\n      <td>38</td>\n      <td>39</td>\n    </tr>\n  </tbody>\n</table>\n</div>"
     },
     "metadata": {},
     "execution_count": 175
    }
   ],
   "source": [
    "#Get monthwise record\n",
    "data[data['Mar'] > 20]"
   ]
  },
  {
   "cell_type": "code",
   "execution_count": 180,
   "metadata": {},
   "outputs": [
    {
     "output_type": "execute_result",
     "data": {
      "text/plain": [
       "            Jan  Fab  Mar  Apr\n",
       "Ohio          0    0    0    0\n",
       "Colorado      0    5    6    7\n",
       "Washington    8    9   10   11\n",
       "Nebraska     12   13   14   15\n",
       "Utah         16   17   18   19\n",
       "New Yark     20   21   22   23\n",
       "Califorina   24   25   26   27\n",
       "Texas        28   29   30   31\n",
       "Georgega     32   33   34   35\n",
       "Alaska       36   37   38   39"
      ],
      "text/html": "<div>\n<style scoped>\n    .dataframe tbody tr th:only-of-type {\n        vertical-align: middle;\n    }\n\n    .dataframe tbody tr th {\n        vertical-align: top;\n    }\n\n    .dataframe thead th {\n        text-align: right;\n    }\n</style>\n<table border=\"1\" class=\"dataframe\">\n  <thead>\n    <tr style=\"text-align: right;\">\n      <th></th>\n      <th>Jan</th>\n      <th>Fab</th>\n      <th>Mar</th>\n      <th>Apr</th>\n    </tr>\n  </thead>\n  <tbody>\n    <tr>\n      <th>Ohio</th>\n      <td>0</td>\n      <td>0</td>\n      <td>0</td>\n      <td>0</td>\n    </tr>\n    <tr>\n      <th>Colorado</th>\n      <td>0</td>\n      <td>5</td>\n      <td>6</td>\n      <td>7</td>\n    </tr>\n    <tr>\n      <th>Washington</th>\n      <td>8</td>\n      <td>9</td>\n      <td>10</td>\n      <td>11</td>\n    </tr>\n    <tr>\n      <th>Nebraska</th>\n      <td>12</td>\n      <td>13</td>\n      <td>14</td>\n      <td>15</td>\n    </tr>\n    <tr>\n      <th>Utah</th>\n      <td>16</td>\n      <td>17</td>\n      <td>18</td>\n      <td>19</td>\n    </tr>\n    <tr>\n      <th>New Yark</th>\n      <td>20</td>\n      <td>21</td>\n      <td>22</td>\n      <td>23</td>\n    </tr>\n    <tr>\n      <th>Califorina</th>\n      <td>24</td>\n      <td>25</td>\n      <td>26</td>\n      <td>27</td>\n    </tr>\n    <tr>\n      <th>Texas</th>\n      <td>28</td>\n      <td>29</td>\n      <td>30</td>\n      <td>31</td>\n    </tr>\n    <tr>\n      <th>Georgega</th>\n      <td>32</td>\n      <td>33</td>\n      <td>34</td>\n      <td>35</td>\n    </tr>\n    <tr>\n      <th>Alaska</th>\n      <td>36</td>\n      <td>37</td>\n      <td>38</td>\n      <td>39</td>\n    </tr>\n  </tbody>\n</table>\n</div>"
     },
     "metadata": {},
     "execution_count": 180
    }
   ],
   "source": [
    "#Set \"0\" where data has value less then 5\n",
    "data[data < 5] = 0\n",
    "data"
   ]
  },
  {
   "cell_type": "code",
   "execution_count": null,
   "metadata": {},
   "outputs": [],
   "source": []
  }
 ]
}