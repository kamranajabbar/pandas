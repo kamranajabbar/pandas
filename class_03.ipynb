{
 "metadata": {
  "language_info": {
   "codemirror_mode": {
    "name": "ipython",
    "version": 3
   },
   "file_extension": ".py",
   "mimetype": "text/x-python",
   "name": "python",
   "nbconvert_exporter": "python",
   "pygments_lexer": "ipython3",
   "version": "3.8.5-final"
  },
  "orig_nbformat": 2,
  "kernelspec": {
   "name": "python3",
   "display_name": "Python 3.8.5 64-bit ('base': conda)",
   "metadata": {
    "interpreter": {
     "hash": "0dcd4ec83837b8554bc20226fba95fdb97a112f322b21fe213505dfa74ddbf76"
    }
   }
  }
 },
 "nbformat": 4,
 "nbformat_minor": 2,
 "cells": [
  {
   "cell_type": "code",
   "execution_count": 46,
   "metadata": {},
   "outputs": [],
   "source": [
    "import pandas_datareader.data as web"
   ]
  },
  {
   "cell_type": "code",
   "execution_count": 47,
   "metadata": {},
   "outputs": [],
   "source": [
    "import pandas as pd\n",
    "import numpy as np"
   ]
  },
  {
   "cell_type": "code",
   "execution_count": 48,
   "metadata": {},
   "outputs": [],
   "source": [
    "#Dictionary comprehension\n",
    "all_data = {\n",
    "    ticker: web.get_data_yahoo(ticker) for ticker in ['AAPL', 'IBM', 'MSFT', 'GOOG']\n",
    "}"
   ]
  },
  {
   "cell_type": "code",
   "execution_count": 49,
   "metadata": {},
   "outputs": [
    {
     "output_type": "execute_result",
     "data": {
      "text/plain": [
       "                   High          Low         Open        Close   Volume  \\\n",
       "Date                                                                      \n",
       "2016-02-16   698.000000   685.049988   692.979980   691.000000  2520000   \n",
       "2016-02-17   709.750000   691.380005   698.090027   708.400024  2492600   \n",
       "2016-02-18   712.349976   696.030029   710.000000   697.349976  1883200   \n",
       "2016-02-19   703.080994   694.049988   695.030029   700.909973  1589300   \n",
       "2016-02-22   713.239990   702.510010   707.450012   706.460022  1949800   \n",
       "...                 ...          ...          ...          ...      ...   \n",
       "2021-02-08  2123.547119  2072.000000  2105.909912  2092.909912  1241900   \n",
       "2021-02-09  2105.129883  2078.540039  2078.540039  2083.510010   889900   \n",
       "2021-02-10  2108.370117  2063.090088  2094.209961  2095.379883  1135500   \n",
       "2021-02-11  2102.030029  2077.320068  2099.510010  2095.889893   945200   \n",
       "2021-02-12  2108.820068  2083.129883  2090.250000  2104.110107   855700   \n",
       "\n",
       "              Adj Close  \n",
       "Date                     \n",
       "2016-02-16   691.000000  \n",
       "2016-02-17   708.400024  \n",
       "2016-02-18   697.349976  \n",
       "2016-02-19   700.909973  \n",
       "2016-02-22   706.460022  \n",
       "...                 ...  \n",
       "2021-02-08  2092.909912  \n",
       "2021-02-09  2083.510010  \n",
       "2021-02-10  2095.379883  \n",
       "2021-02-11  2095.889893  \n",
       "2021-02-12  2104.110107  \n",
       "\n",
       "[1259 rows x 6 columns]"
      ],
      "text/html": "<div>\n<style scoped>\n    .dataframe tbody tr th:only-of-type {\n        vertical-align: middle;\n    }\n\n    .dataframe tbody tr th {\n        vertical-align: top;\n    }\n\n    .dataframe thead th {\n        text-align: right;\n    }\n</style>\n<table border=\"1\" class=\"dataframe\">\n  <thead>\n    <tr style=\"text-align: right;\">\n      <th></th>\n      <th>High</th>\n      <th>Low</th>\n      <th>Open</th>\n      <th>Close</th>\n      <th>Volume</th>\n      <th>Adj Close</th>\n    </tr>\n    <tr>\n      <th>Date</th>\n      <th></th>\n      <th></th>\n      <th></th>\n      <th></th>\n      <th></th>\n      <th></th>\n    </tr>\n  </thead>\n  <tbody>\n    <tr>\n      <th>2016-02-16</th>\n      <td>698.000000</td>\n      <td>685.049988</td>\n      <td>692.979980</td>\n      <td>691.000000</td>\n      <td>2520000</td>\n      <td>691.000000</td>\n    </tr>\n    <tr>\n      <th>2016-02-17</th>\n      <td>709.750000</td>\n      <td>691.380005</td>\n      <td>698.090027</td>\n      <td>708.400024</td>\n      <td>2492600</td>\n      <td>708.400024</td>\n    </tr>\n    <tr>\n      <th>2016-02-18</th>\n      <td>712.349976</td>\n      <td>696.030029</td>\n      <td>710.000000</td>\n      <td>697.349976</td>\n      <td>1883200</td>\n      <td>697.349976</td>\n    </tr>\n    <tr>\n      <th>2016-02-19</th>\n      <td>703.080994</td>\n      <td>694.049988</td>\n      <td>695.030029</td>\n      <td>700.909973</td>\n      <td>1589300</td>\n      <td>700.909973</td>\n    </tr>\n    <tr>\n      <th>2016-02-22</th>\n      <td>713.239990</td>\n      <td>702.510010</td>\n      <td>707.450012</td>\n      <td>706.460022</td>\n      <td>1949800</td>\n      <td>706.460022</td>\n    </tr>\n    <tr>\n      <th>...</th>\n      <td>...</td>\n      <td>...</td>\n      <td>...</td>\n      <td>...</td>\n      <td>...</td>\n      <td>...</td>\n    </tr>\n    <tr>\n      <th>2021-02-08</th>\n      <td>2123.547119</td>\n      <td>2072.000000</td>\n      <td>2105.909912</td>\n      <td>2092.909912</td>\n      <td>1241900</td>\n      <td>2092.909912</td>\n    </tr>\n    <tr>\n      <th>2021-02-09</th>\n      <td>2105.129883</td>\n      <td>2078.540039</td>\n      <td>2078.540039</td>\n      <td>2083.510010</td>\n      <td>889900</td>\n      <td>2083.510010</td>\n    </tr>\n    <tr>\n      <th>2021-02-10</th>\n      <td>2108.370117</td>\n      <td>2063.090088</td>\n      <td>2094.209961</td>\n      <td>2095.379883</td>\n      <td>1135500</td>\n      <td>2095.379883</td>\n    </tr>\n    <tr>\n      <th>2021-02-11</th>\n      <td>2102.030029</td>\n      <td>2077.320068</td>\n      <td>2099.510010</td>\n      <td>2095.889893</td>\n      <td>945200</td>\n      <td>2095.889893</td>\n    </tr>\n    <tr>\n      <th>2021-02-12</th>\n      <td>2108.820068</td>\n      <td>2083.129883</td>\n      <td>2090.250000</td>\n      <td>2104.110107</td>\n      <td>855700</td>\n      <td>2104.110107</td>\n    </tr>\n  </tbody>\n</table>\n<p>1259 rows × 6 columns</p>\n</div>"
     },
     "metadata": {},
     "execution_count": 49
    }
   ],
   "source": [
    "#Parse dictionary for GOOD\n",
    "all_data['GOOG']"
   ]
  },
  {
   "cell_type": "code",
   "execution_count": 50,
   "metadata": {},
   "outputs": [
    {
     "output_type": "execute_result",
     "data": {
      "text/plain": [
       "                  AAPL         IBM        MSFT         GOOG\n",
       "Date                                                       \n",
       "2016-02-16   22.471428   98.425911   46.955994   691.000000\n",
       "2016-02-17   22.815565  101.120300   48.178375   708.400024\n",
       "2016-02-18   22.383070  106.212402   47.966984   697.349976\n",
       "2016-02-19   22.331917  106.717606   47.626919   700.909973\n",
       "2016-02-22   22.527231  107.270927   48.389759   706.460022\n",
       "...                ...         ...         ...          ...\n",
       "2021-02-08  136.910004  121.980003  242.470001  2092.909912\n",
       "2021-02-09  136.009995  122.099998  243.770004  2083.510010\n",
       "2021-02-10  135.389999  122.239998  242.820007  2095.379883\n",
       "2021-02-11  135.130005  120.910004  244.490005  2095.889893\n",
       "2021-02-12  135.369995  120.800003  244.990005  2104.110107\n",
       "\n",
       "[1259 rows x 4 columns]"
      ],
      "text/html": "<div>\n<style scoped>\n    .dataframe tbody tr th:only-of-type {\n        vertical-align: middle;\n    }\n\n    .dataframe tbody tr th {\n        vertical-align: top;\n    }\n\n    .dataframe thead th {\n        text-align: right;\n    }\n</style>\n<table border=\"1\" class=\"dataframe\">\n  <thead>\n    <tr style=\"text-align: right;\">\n      <th></th>\n      <th>AAPL</th>\n      <th>IBM</th>\n      <th>MSFT</th>\n      <th>GOOG</th>\n    </tr>\n    <tr>\n      <th>Date</th>\n      <th></th>\n      <th></th>\n      <th></th>\n      <th></th>\n    </tr>\n  </thead>\n  <tbody>\n    <tr>\n      <th>2016-02-16</th>\n      <td>22.471428</td>\n      <td>98.425911</td>\n      <td>46.955994</td>\n      <td>691.000000</td>\n    </tr>\n    <tr>\n      <th>2016-02-17</th>\n      <td>22.815565</td>\n      <td>101.120300</td>\n      <td>48.178375</td>\n      <td>708.400024</td>\n    </tr>\n    <tr>\n      <th>2016-02-18</th>\n      <td>22.383070</td>\n      <td>106.212402</td>\n      <td>47.966984</td>\n      <td>697.349976</td>\n    </tr>\n    <tr>\n      <th>2016-02-19</th>\n      <td>22.331917</td>\n      <td>106.717606</td>\n      <td>47.626919</td>\n      <td>700.909973</td>\n    </tr>\n    <tr>\n      <th>2016-02-22</th>\n      <td>22.527231</td>\n      <td>107.270927</td>\n      <td>48.389759</td>\n      <td>706.460022</td>\n    </tr>\n    <tr>\n      <th>...</th>\n      <td>...</td>\n      <td>...</td>\n      <td>...</td>\n      <td>...</td>\n    </tr>\n    <tr>\n      <th>2021-02-08</th>\n      <td>136.910004</td>\n      <td>121.980003</td>\n      <td>242.470001</td>\n      <td>2092.909912</td>\n    </tr>\n    <tr>\n      <th>2021-02-09</th>\n      <td>136.009995</td>\n      <td>122.099998</td>\n      <td>243.770004</td>\n      <td>2083.510010</td>\n    </tr>\n    <tr>\n      <th>2021-02-10</th>\n      <td>135.389999</td>\n      <td>122.239998</td>\n      <td>242.820007</td>\n      <td>2095.379883</td>\n    </tr>\n    <tr>\n      <th>2021-02-11</th>\n      <td>135.130005</td>\n      <td>120.910004</td>\n      <td>244.490005</td>\n      <td>2095.889893</td>\n    </tr>\n    <tr>\n      <th>2021-02-12</th>\n      <td>135.369995</td>\n      <td>120.800003</td>\n      <td>244.990005</td>\n      <td>2104.110107</td>\n    </tr>\n  </tbody>\n</table>\n<p>1259 rows × 4 columns</p>\n</div>"
     },
     "metadata": {},
     "execution_count": 50
    }
   ],
   "source": [
    "#Parse dictionary for all \"Adj Close\" for labels\n",
    "price = pd.DataFrame({ ticker: data['Adj Close'] for (ticker, data) in all_data.items() })\n",
    "price"
   ]
  },
  {
   "cell_type": "code",
   "execution_count": 51,
   "metadata": {},
   "outputs": [
    {
     "output_type": "execute_result",
     "data": {
      "text/plain": [
       "                   AAPL        IBM        MSFT     GOOG\n",
       "Date                                                   \n",
       "2016-02-16  196231600.0  4061400.0  37291200.0  2520000\n",
       "2016-02-17  179452800.0  4821000.0  40789000.0  2492600\n",
       "2016-02-18  156084000.0  9951600.0  27176000.0  1883200\n",
       "2016-02-19  141496800.0  5125300.0  33559100.0  1589300\n",
       "2016-02-22  137123200.0  4457400.0  25008300.0  1949800\n",
       "...                 ...        ...         ...      ...\n",
       "2021-02-08   71297200.0  5888000.0  22211900.0  1241900\n",
       "2021-02-09   76774200.0  4717000.0  23565000.0   889900\n",
       "2021-02-10   73046600.0  4866800.0  22186700.0  1135500\n",
       "2021-02-11   64154400.0  5380600.0  15742200.0   945200\n",
       "2021-02-12   60029300.0  3868900.0  16552000.0   855700\n",
       "\n",
       "[1259 rows x 4 columns]"
      ],
      "text/html": "<div>\n<style scoped>\n    .dataframe tbody tr th:only-of-type {\n        vertical-align: middle;\n    }\n\n    .dataframe tbody tr th {\n        vertical-align: top;\n    }\n\n    .dataframe thead th {\n        text-align: right;\n    }\n</style>\n<table border=\"1\" class=\"dataframe\">\n  <thead>\n    <tr style=\"text-align: right;\">\n      <th></th>\n      <th>AAPL</th>\n      <th>IBM</th>\n      <th>MSFT</th>\n      <th>GOOG</th>\n    </tr>\n    <tr>\n      <th>Date</th>\n      <th></th>\n      <th></th>\n      <th></th>\n      <th></th>\n    </tr>\n  </thead>\n  <tbody>\n    <tr>\n      <th>2016-02-16</th>\n      <td>196231600.0</td>\n      <td>4061400.0</td>\n      <td>37291200.0</td>\n      <td>2520000</td>\n    </tr>\n    <tr>\n      <th>2016-02-17</th>\n      <td>179452800.0</td>\n      <td>4821000.0</td>\n      <td>40789000.0</td>\n      <td>2492600</td>\n    </tr>\n    <tr>\n      <th>2016-02-18</th>\n      <td>156084000.0</td>\n      <td>9951600.0</td>\n      <td>27176000.0</td>\n      <td>1883200</td>\n    </tr>\n    <tr>\n      <th>2016-02-19</th>\n      <td>141496800.0</td>\n      <td>5125300.0</td>\n      <td>33559100.0</td>\n      <td>1589300</td>\n    </tr>\n    <tr>\n      <th>2016-02-22</th>\n      <td>137123200.0</td>\n      <td>4457400.0</td>\n      <td>25008300.0</td>\n      <td>1949800</td>\n    </tr>\n    <tr>\n      <th>...</th>\n      <td>...</td>\n      <td>...</td>\n      <td>...</td>\n      <td>...</td>\n    </tr>\n    <tr>\n      <th>2021-02-08</th>\n      <td>71297200.0</td>\n      <td>5888000.0</td>\n      <td>22211900.0</td>\n      <td>1241900</td>\n    </tr>\n    <tr>\n      <th>2021-02-09</th>\n      <td>76774200.0</td>\n      <td>4717000.0</td>\n      <td>23565000.0</td>\n      <td>889900</td>\n    </tr>\n    <tr>\n      <th>2021-02-10</th>\n      <td>73046600.0</td>\n      <td>4866800.0</td>\n      <td>22186700.0</td>\n      <td>1135500</td>\n    </tr>\n    <tr>\n      <th>2021-02-11</th>\n      <td>64154400.0</td>\n      <td>5380600.0</td>\n      <td>15742200.0</td>\n      <td>945200</td>\n    </tr>\n    <tr>\n      <th>2021-02-12</th>\n      <td>60029300.0</td>\n      <td>3868900.0</td>\n      <td>16552000.0</td>\n      <td>855700</td>\n    </tr>\n  </tbody>\n</table>\n<p>1259 rows × 4 columns</p>\n</div>"
     },
     "metadata": {},
     "execution_count": 51
    }
   ],
   "source": [
    "#Parse dictionary for all \"Volume\" for labels\n",
    "volume = pd.DataFrame({ ticker: data['Volume'] for (ticker, data) in all_data.items() })\n",
    "volume"
   ]
  },
  {
   "cell_type": "code",
   "execution_count": 52,
   "metadata": {},
   "outputs": [
    {
     "output_type": "execute_result",
     "data": {
      "text/plain": [
       "                AAPL       IBM      MSFT      GOOG\n",
       "Date                                              \n",
       "2016-02-16       NaN       NaN       NaN       NaN\n",
       "2016-02-17  0.015314  0.027375  0.026032  0.025181\n",
       "2016-02-18 -0.018956  0.050357 -0.004388 -0.015599\n",
       "2016-02-19 -0.002285  0.004757 -0.007090  0.005105\n",
       "2016-02-22  0.008746  0.005185  0.016017  0.007918\n",
       "...              ...       ...       ...       ...\n",
       "2021-02-08  0.001097  0.014944  0.001115 -0.002426\n",
       "2021-02-09 -0.006574  0.000984  0.005362 -0.004491\n",
       "2021-02-10 -0.004558  0.001147 -0.003897  0.005697\n",
       "2021-02-11 -0.001920 -0.010880  0.006878  0.000243\n",
       "2021-02-12  0.001776 -0.000910  0.002045  0.003922\n",
       "\n",
       "[1259 rows x 4 columns]"
      ],
      "text/html": "<div>\n<style scoped>\n    .dataframe tbody tr th:only-of-type {\n        vertical-align: middle;\n    }\n\n    .dataframe tbody tr th {\n        vertical-align: top;\n    }\n\n    .dataframe thead th {\n        text-align: right;\n    }\n</style>\n<table border=\"1\" class=\"dataframe\">\n  <thead>\n    <tr style=\"text-align: right;\">\n      <th></th>\n      <th>AAPL</th>\n      <th>IBM</th>\n      <th>MSFT</th>\n      <th>GOOG</th>\n    </tr>\n    <tr>\n      <th>Date</th>\n      <th></th>\n      <th></th>\n      <th></th>\n      <th></th>\n    </tr>\n  </thead>\n  <tbody>\n    <tr>\n      <th>2016-02-16</th>\n      <td>NaN</td>\n      <td>NaN</td>\n      <td>NaN</td>\n      <td>NaN</td>\n    </tr>\n    <tr>\n      <th>2016-02-17</th>\n      <td>0.015314</td>\n      <td>0.027375</td>\n      <td>0.026032</td>\n      <td>0.025181</td>\n    </tr>\n    <tr>\n      <th>2016-02-18</th>\n      <td>-0.018956</td>\n      <td>0.050357</td>\n      <td>-0.004388</td>\n      <td>-0.015599</td>\n    </tr>\n    <tr>\n      <th>2016-02-19</th>\n      <td>-0.002285</td>\n      <td>0.004757</td>\n      <td>-0.007090</td>\n      <td>0.005105</td>\n    </tr>\n    <tr>\n      <th>2016-02-22</th>\n      <td>0.008746</td>\n      <td>0.005185</td>\n      <td>0.016017</td>\n      <td>0.007918</td>\n    </tr>\n    <tr>\n      <th>...</th>\n      <td>...</td>\n      <td>...</td>\n      <td>...</td>\n      <td>...</td>\n    </tr>\n    <tr>\n      <th>2021-02-08</th>\n      <td>0.001097</td>\n      <td>0.014944</td>\n      <td>0.001115</td>\n      <td>-0.002426</td>\n    </tr>\n    <tr>\n      <th>2021-02-09</th>\n      <td>-0.006574</td>\n      <td>0.000984</td>\n      <td>0.005362</td>\n      <td>-0.004491</td>\n    </tr>\n    <tr>\n      <th>2021-02-10</th>\n      <td>-0.004558</td>\n      <td>0.001147</td>\n      <td>-0.003897</td>\n      <td>0.005697</td>\n    </tr>\n    <tr>\n      <th>2021-02-11</th>\n      <td>-0.001920</td>\n      <td>-0.010880</td>\n      <td>0.006878</td>\n      <td>0.000243</td>\n    </tr>\n    <tr>\n      <th>2021-02-12</th>\n      <td>0.001776</td>\n      <td>-0.000910</td>\n      <td>0.002045</td>\n      <td>0.003922</td>\n    </tr>\n  </tbody>\n</table>\n<p>1259 rows × 4 columns</p>\n</div>"
     },
     "metadata": {},
     "execution_count": 52
    }
   ],
   "source": [
    "returns = price.pct_change()\n",
    "returns"
   ]
  },
  {
   "cell_type": "code",
   "execution_count": 53,
   "metadata": {},
   "outputs": [
    {
     "output_type": "execute_result",
     "data": {
      "text/plain": [
       "                AAPL       IBM      MSFT      GOOG\n",
       "Date                                              \n",
       "2021-02-08  0.001097  0.014944  0.001115 -0.002426\n",
       "2021-02-09 -0.006574  0.000984  0.005362 -0.004491\n",
       "2021-02-10 -0.004558  0.001147 -0.003897  0.005697\n",
       "2021-02-11 -0.001920 -0.010880  0.006878  0.000243\n",
       "2021-02-12  0.001776 -0.000910  0.002045  0.003922"
      ],
      "text/html": "<div>\n<style scoped>\n    .dataframe tbody tr th:only-of-type {\n        vertical-align: middle;\n    }\n\n    .dataframe tbody tr th {\n        vertical-align: top;\n    }\n\n    .dataframe thead th {\n        text-align: right;\n    }\n</style>\n<table border=\"1\" class=\"dataframe\">\n  <thead>\n    <tr style=\"text-align: right;\">\n      <th></th>\n      <th>AAPL</th>\n      <th>IBM</th>\n      <th>MSFT</th>\n      <th>GOOG</th>\n    </tr>\n    <tr>\n      <th>Date</th>\n      <th></th>\n      <th></th>\n      <th></th>\n      <th></th>\n    </tr>\n  </thead>\n  <tbody>\n    <tr>\n      <th>2021-02-08</th>\n      <td>0.001097</td>\n      <td>0.014944</td>\n      <td>0.001115</td>\n      <td>-0.002426</td>\n    </tr>\n    <tr>\n      <th>2021-02-09</th>\n      <td>-0.006574</td>\n      <td>0.000984</td>\n      <td>0.005362</td>\n      <td>-0.004491</td>\n    </tr>\n    <tr>\n      <th>2021-02-10</th>\n      <td>-0.004558</td>\n      <td>0.001147</td>\n      <td>-0.003897</td>\n      <td>0.005697</td>\n    </tr>\n    <tr>\n      <th>2021-02-11</th>\n      <td>-0.001920</td>\n      <td>-0.010880</td>\n      <td>0.006878</td>\n      <td>0.000243</td>\n    </tr>\n    <tr>\n      <th>2021-02-12</th>\n      <td>0.001776</td>\n      <td>-0.000910</td>\n      <td>0.002045</td>\n      <td>0.003922</td>\n    </tr>\n  </tbody>\n</table>\n</div>"
     },
     "metadata": {},
     "execution_count": 53
    }
   ],
   "source": [
    "#Get last five records\n",
    "returns.tail()"
   ]
  },
  {
   "cell_type": "code",
   "execution_count": 54,
   "metadata": {},
   "outputs": [
    {
     "output_type": "execute_result",
     "data": {
      "text/plain": [
       "0.5410189133048722"
      ]
     },
     "metadata": {},
     "execution_count": 54
    }
   ],
   "source": [
    "#Get Correlation between MSFT and IBM\n",
    "returns['MSFT'].corr(returns['IBM'])"
   ]
  },
  {
   "cell_type": "code",
   "execution_count": 55,
   "metadata": {},
   "outputs": [
    {
     "output_type": "execute_result",
     "data": {
      "text/plain": [
       "0.0001539027691947998"
      ]
     },
     "metadata": {},
     "execution_count": 55
    }
   ],
   "source": [
    "#Get Coverence between MSFT and IBM\n",
    "returns['MSFT'].cov(returns['IBM'])"
   ]
  },
  {
   "cell_type": "code",
   "execution_count": 56,
   "metadata": {},
   "outputs": [
    {
     "output_type": "execute_result",
     "data": {
      "text/plain": [
       "          AAPL       IBM      MSFT      GOOG\n",
       "AAPL  1.000000  0.454302  0.709192  0.650613\n",
       "IBM   0.454302  1.000000  0.541019  0.507296\n",
       "MSFT  0.709192  0.541019  1.000000  0.778057\n",
       "GOOG  0.650613  0.507296  0.778057  1.000000"
      ],
      "text/html": "<div>\n<style scoped>\n    .dataframe tbody tr th:only-of-type {\n        vertical-align: middle;\n    }\n\n    .dataframe tbody tr th {\n        vertical-align: top;\n    }\n\n    .dataframe thead th {\n        text-align: right;\n    }\n</style>\n<table border=\"1\" class=\"dataframe\">\n  <thead>\n    <tr style=\"text-align: right;\">\n      <th></th>\n      <th>AAPL</th>\n      <th>IBM</th>\n      <th>MSFT</th>\n      <th>GOOG</th>\n    </tr>\n  </thead>\n  <tbody>\n    <tr>\n      <th>AAPL</th>\n      <td>1.000000</td>\n      <td>0.454302</td>\n      <td>0.709192</td>\n      <td>0.650613</td>\n    </tr>\n    <tr>\n      <th>IBM</th>\n      <td>0.454302</td>\n      <td>1.000000</td>\n      <td>0.541019</td>\n      <td>0.507296</td>\n    </tr>\n    <tr>\n      <th>MSFT</th>\n      <td>0.709192</td>\n      <td>0.541019</td>\n      <td>1.000000</td>\n      <td>0.778057</td>\n    </tr>\n    <tr>\n      <th>GOOG</th>\n      <td>0.650613</td>\n      <td>0.507296</td>\n      <td>0.778057</td>\n      <td>1.000000</td>\n    </tr>\n  </tbody>\n</table>\n</div>"
     },
     "metadata": {},
     "execution_count": 56
    }
   ],
   "source": [
    "#Get full Correlation or Coverencematrix as a DataFrame\n",
    "returns.corr()"
   ]
  },
  {
   "cell_type": "code",
   "execution_count": 57,
   "metadata": {},
   "outputs": [
    {
     "output_type": "execute_result",
     "data": {
      "text/plain": [
       "          AAPL       IBM      MSFT      GOOG\n",
       "AAPL  0.000357  0.000141  0.000232  0.000205\n",
       "IBM   0.000141  0.000269  0.000154  0.000139\n",
       "MSFT  0.000232  0.000154  0.000300  0.000225\n",
       "GOOG  0.000205  0.000139  0.000225  0.000278"
      ],
      "text/html": "<div>\n<style scoped>\n    .dataframe tbody tr th:only-of-type {\n        vertical-align: middle;\n    }\n\n    .dataframe tbody tr th {\n        vertical-align: top;\n    }\n\n    .dataframe thead th {\n        text-align: right;\n    }\n</style>\n<table border=\"1\" class=\"dataframe\">\n  <thead>\n    <tr style=\"text-align: right;\">\n      <th></th>\n      <th>AAPL</th>\n      <th>IBM</th>\n      <th>MSFT</th>\n      <th>GOOG</th>\n    </tr>\n  </thead>\n  <tbody>\n    <tr>\n      <th>AAPL</th>\n      <td>0.000357</td>\n      <td>0.000141</td>\n      <td>0.000232</td>\n      <td>0.000205</td>\n    </tr>\n    <tr>\n      <th>IBM</th>\n      <td>0.000141</td>\n      <td>0.000269</td>\n      <td>0.000154</td>\n      <td>0.000139</td>\n    </tr>\n    <tr>\n      <th>MSFT</th>\n      <td>0.000232</td>\n      <td>0.000154</td>\n      <td>0.000300</td>\n      <td>0.000225</td>\n    </tr>\n    <tr>\n      <th>GOOG</th>\n      <td>0.000205</td>\n      <td>0.000139</td>\n      <td>0.000225</td>\n      <td>0.000278</td>\n    </tr>\n  </tbody>\n</table>\n</div>"
     },
     "metadata": {},
     "execution_count": 57
    }
   ],
   "source": [
    "returns.cov()"
   ]
  },
  {
   "cell_type": "code",
   "execution_count": 58,
   "metadata": {},
   "outputs": [
    {
     "output_type": "execute_result",
     "data": {
      "text/plain": [
       "AAPL    0.454302\n",
       "IBM     1.000000\n",
       "MSFT    0.541019\n",
       "GOOG    0.507296\n",
       "dtype: float64"
      ]
     },
     "metadata": {},
     "execution_count": 58
    }
   ],
   "source": [
    "#Get DF's corrwith(), we can compute pairwise correcletion b/w DF's columns or rows with other series or DF.\n",
    "returns.corrwith(returns.IBM)"
   ]
  },
  {
   "cell_type": "code",
   "execution_count": null,
   "metadata": {},
   "outputs": [],
   "source": []
  }
 ]
}